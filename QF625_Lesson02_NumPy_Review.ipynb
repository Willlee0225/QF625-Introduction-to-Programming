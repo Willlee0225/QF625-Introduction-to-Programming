{
 "cells": [
  {
   "cell_type": "markdown",
   "metadata": {},
   "source": [
    "# QF 625 Introduction to Programming\n",
    "## Lesson 2 | An Introduction to `NumPy` | `RE`view"
   ]
  },
  {
   "cell_type": "markdown",
   "metadata": {},
   "source": [
    "> Welcome back, Team :) Let's begin our first meeting of Week 2.\n",
    "\n",
    "> In the previous lesson, you have learned about `methods and functions` that are available in built-in Python, along with variables and data types.\n",
    "\n",
    "> First, let us begin with some basic built-in Python that you need to fully understand before we proceed."
   ]
  },
  {
   "cell_type": "markdown",
   "metadata": {},
   "source": [
    "> Here's a quick reminder regarding the useful hotkeys for scripting on Jupyter Notebook :)"
   ]
  },
  {
   "cell_type": "markdown",
   "metadata": {},
   "source": [
    "- `a` inserts a cell above \n",
    "- `b` inserts a cell below\n",
    "- `dd` (double d) deletes a cell \n",
    "- `esc` jumps out of the cell\n",
    "- `return/enter` gets into the cell\n",
    "- `m` makes your cell markdown\n",
    "- `y` makes your cell code\n",
    "- `shift + control + -` splits the cell\n",
    "- `shift + m` merges the cells\n",
    "- `shift + l` adds line numbers into the cell"
   ]
  },
  {
   "cell_type": "markdown",
   "metadata": {},
   "source": [
    "> Now you will start learning about how to use `packages`.\n",
    "\n",
    "> As Python is open-source language, using the humongous ecosystem of packages will help you work more efficiently.\n",
    "\n",
    "> A `package is a collection of Python modules and scripts` giving you new data types, functions, and methods.\n"
   ]
  },
  {
   "cell_type": "markdown",
   "metadata": {},
   "source": [
    "### How to `install` a ***package***?\n",
    "\n",
    "> To use a package, you need to download it first.\n",
    "\n",
    "> Let's use the command `pip3 install target_package` so that you can install packages of your interest.\n",
    "\n",
    "> For downloading a package, you need to do this just once, yet you should import in your workspace whenever you wish to use it.\n",
    "\n",
    "> The command below will load the NumPy package into Python for your use."
   ]
  },
  {
   "cell_type": "code",
   "execution_count": 1,
   "metadata": {},
   "outputs": [],
   "source": [
    "import numpy as np"
   ]
  },
  {
   "cell_type": "markdown",
   "metadata": {},
   "source": [
    "***Wait, why do we use alias here (i.e., as `np`)? ?*** \n",
    "\n",
    "> As you will see below, \n",
    "\n",
    "- To access the array() function, you need to use np.array() to indicate that the function is from the NumPy package.\n",
    "\n",
    "> Yes, the reason why we have used np as alias is to minimize our typing task."
   ]
  },
  {
   "cell_type": "markdown",
   "metadata": {},
   "source": [
    "### The Basics"
   ]
  },
  {
   "cell_type": "markdown",
   "metadata": {},
   "source": [
    "> Using `NumPy`, you can create a new data type called `array`.\n",
    "\n",
    "> Why use data type `array`?\n",
    "\n",
    "**`array` is useful for financial analysis because...**\n",
    "\n",
    "- array `stores` data more efficiently\n",
    "\n",
    "- array `performs` faster than built-in Python lists in terms of computations (access in reading and writing items faster as the package is optimized for numerical analyses)\n",
    "\n",
    "- array `shows` better performance with relatively larger datasets\n",
    "\n",
    "- array, most importantly, **`enables` you to utilize `array-related functions`**--you can perform statistical modelling and visualization easier, which is critical for financial analysis.\n",
    "\n",
    "\n",
    "\n"
   ]
  },
  {
   "cell_type": "markdown",
   "metadata": {},
   "source": [
    "> **A good way to understand about the usefulness of NumPy is to compare array with list (yes, that list that you learned in the previous lesson).**"
   ]
  },
  {
   "cell_type": "markdown",
   "metadata": {},
   "source": [
    "#### Differences 1. Arrays can contain only a single data type (unlike lists)."
   ]
  },
  {
   "cell_type": "code",
   "execution_count": 2,
   "metadata": {},
   "outputs": [
    {
     "name": "stdout",
     "output_type": "stream",
     "text": [
      "['Year', 2019, False]\n"
     ]
    }
   ],
   "source": [
    "your_list = [\"Year\", 2019, False]\n",
    "print(your_list)"
   ]
  },
  {
   "cell_type": "code",
   "execution_count": 3,
   "metadata": {},
   "outputs": [
    {
     "data": {
      "text/plain": [
       "list"
      ]
     },
     "execution_count": 3,
     "metadata": {},
     "output_type": "execute_result"
    }
   ],
   "source": [
    "type(your_list)"
   ]
  },
  {
   "cell_type": "markdown",
   "metadata": {},
   "source": [
    "> As you will see below, arrays in NumPy will convert the elements in the list to the most compatible data types."
   ]
  },
  {
   "cell_type": "code",
   "execution_count": 4,
   "metadata": {},
   "outputs": [
    {
     "name": "stdout",
     "output_type": "stream",
     "text": [
      "['Year' '2019' 'False']\n",
      "['2020' 'Coronavirus' 'True']\n"
     ]
    }
   ],
   "source": [
    "# Note that function array() takes a list as its input. \n",
    "your_array = np.array([\"Year\", 2019, False])\n",
    "\n",
    "# As noted above, to use array(), you need to use np.array()\n",
    "print(your_array)\n",
    "\n",
    "your_array2 = np.array([2020, \"Coronavirus\", True])\n",
    "print(your_array2)"
   ]
  },
  {
   "cell_type": "code",
   "execution_count": 5,
   "metadata": {},
   "outputs": [
    {
     "name": "stdout",
     "output_type": "stream",
     "text": [
      "<class 'numpy.ndarray'>\n"
     ]
    }
   ],
   "source": [
    "print(type(your_array))"
   ]
  },
  {
   "cell_type": "code",
   "execution_count": 6,
   "metadata": {},
   "outputs": [],
   "source": [
    "# Here are lists.\n",
    "earnings_list = [10.09, 10.28, 2.21, 6.19, 8.24]\n",
    "prices_list = [99.98, 87.68, 154.23, 162.12, 121.11]"
   ]
  },
  {
   "cell_type": "markdown",
   "metadata": {},
   "source": [
    "> How would you make objects `earnings` and `prices` arrays?"
   ]
  },
  {
   "cell_type": "code",
   "execution_count": 7,
   "metadata": {},
   "outputs": [
    {
     "name": "stdout",
     "output_type": "stream",
     "text": [
      "[10.09 10.28  2.21  6.19  8.24]\n",
      "[ 99.98  87.68 154.23 162.12 121.11]\n"
     ]
    }
   ],
   "source": [
    "earnings_array = np.array(earnings_list)\n",
    "prices_array = np.array(prices_list)\n",
    "\n",
    "print(earnings_array);print(prices_array)"
   ]
  },
  {
   "cell_type": "markdown",
   "metadata": {},
   "source": [
    "#### Differences 2. Arrays have different ways of operations (than lists)."
   ]
  },
  {
   "cell_type": "markdown",
   "metadata": {},
   "source": [
    "> Let's see how lists behave first."
   ]
  },
  {
   "cell_type": "code",
   "execution_count": 8,
   "metadata": {},
   "outputs": [
    {
     "name": "stdout",
     "output_type": "stream",
     "text": [
      "[99.98, 87.68, 154.23, 162.12, 121.11, 10.09, 10.28, 2.21, 6.19, 8.24]\n"
     ]
    }
   ],
   "source": [
    "pe_ratio_list = prices_list + earnings_list\n",
    "print(pe_ratio_list)"
   ]
  },
  {
   "cell_type": "markdown",
   "metadata": {},
   "source": [
    "> The two objects were merely concatenated. That's not what we want..."
   ]
  },
  {
   "cell_type": "markdown",
   "metadata": {},
   "source": [
    "> ***Arrays allow for efficient numerical manipulation of its elements.***\n",
    "\n",
    "> Let's calculate `the dollar amount an investor can expect to invest in a company to receive one dollar of that company’s earnings`--yes, the `price to earnings ratio`--using two arrays, earnings_array and prices_array above."
   ]
  },
  {
   "cell_type": "code",
   "execution_count": 9,
   "metadata": {},
   "outputs": [
    {
     "name": "stdout",
     "output_type": "stream",
     "text": [
      "[ 9.90882061  8.52918288 69.78733032 26.19063005 14.69781553]\n"
     ]
    }
   ],
   "source": [
    "pe_ratio_array = prices_array / earnings_array\n",
    "print(pe_ratio_array)"
   ]
  },
  {
   "cell_type": "markdown",
   "metadata": {},
   "source": [
    "> You could see here that arrays perform `element-wise mathematical operations`."
   ]
  },
  {
   "cell_type": "markdown",
   "metadata": {},
   "source": [
    "#### Indexing, Subsetting, Filtering, & Slicing: Similarities between `array` and `list`\n",
    "\n",
    "> We have seen differences between arrays and lists.\n",
    "\n",
    "> Here are also similarities."
   ]
  },
  {
   "cell_type": "code",
   "execution_count": 10,
   "metadata": {},
   "outputs": [
    {
     "name": "stdout",
     "output_type": "stream",
     "text": [
      "[10.28  2.21  6.19]\n"
     ]
    }
   ],
   "source": [
    "earnings_subset_three_in_the_middle = earnings_array[1:4]\n",
    "print(earnings_subset_three_in_the_middle)"
   ]
  },
  {
   "cell_type": "code",
   "execution_count": 11,
   "metadata": {},
   "outputs": [
    {
     "name": "stdout",
     "output_type": "stream",
     "text": [
      "[6.19 8.24]\n"
     ]
    }
   ],
   "source": [
    "earnings_subset_the_last_two = earnings_array[-2:]\n",
    "print(earnings_subset_the_last_two)"
   ]
  },
  {
   "cell_type": "code",
   "execution_count": 12,
   "metadata": {},
   "outputs": [],
   "source": [
    "earnings_subset_every_other_element = earnings_array[0:5:2]"
   ]
  },
  {
   "cell_type": "markdown",
   "metadata": {},
   "source": [
    "> Please address the error message above."
   ]
  },
  {
   "cell_type": "markdown",
   "metadata": {},
   "source": [
    "### Arrays in NumPy can be `multi`dimensional."
   ]
  },
  {
   "cell_type": "markdown",
   "metadata": {},
   "source": [
    "![](ndim.png)\n",
    "#### How to add image (CLICK HERE TWICE)"
   ]
  },
  {
   "cell_type": "markdown",
   "metadata": {},
   "source": [
    "> A common form of financial data comes with a rectangular form of data that contains rows and columns. \n",
    "\n",
    "> Such data can be represented with two-dimensional arrays."
   ]
  },
  {
   "cell_type": "markdown",
   "metadata": {},
   "source": [
    "> To create a two-dimensional array using NumPy, you can use the same function array()."
   ]
  },
  {
   "cell_type": "markdown",
   "metadata": {},
   "source": [
    "> Instead of providing a single list as your input, let's pass in a list of two lists as your input.\n",
    "\n",
    "> Here, let's pass earnings and prices to create a two-dimensional array."
   ]
  },
  {
   "cell_type": "code",
   "execution_count": 13,
   "metadata": {},
   "outputs": [
    {
     "name": "stdout",
     "output_type": "stream",
     "text": [
      "[[ 10.09  10.28   2.21   6.19   8.24]\n",
      " [ 99.98  87.68 154.23 162.12 121.11]]\n",
      "[[ 10.09  10.28   2.21   6.19   8.24]\n",
      " [ 99.98  87.68 154.23 162.12 121.11]]\n"
     ]
    }
   ],
   "source": [
    "pe_array = np.array([[10.09, 10.28, 2.21, 6.19, 8.24],[99.98, 87.68, 154.23, 162.12, 121.11]])\n",
    "print(pe_array)\n",
    "\n",
    "# Recall that there were two lists of earnings_list and prices_list\n",
    "pe_array2 = np.array([earnings_list, prices_list])\n",
    "print(pe_array2)"
   ]
  },
  {
   "cell_type": "code",
   "execution_count": 14,
   "metadata": {},
   "outputs": [
    {
     "data": {
      "text/plain": [
       "array([[ True,  True,  True,  True,  True],\n",
       "       [ True,  True,  True,  True,  True]])"
      ]
     },
     "execution_count": 14,
     "metadata": {},
     "output_type": "execute_result"
    }
   ],
   "source": [
    "pe_array == pe_array2"
   ]
  },
  {
   "cell_type": "markdown",
   "metadata": {},
   "source": [
    "> You might want to use `boolean` arrays as well. \n",
    "\n",
    "> As you will see below, Boolean arrays are quite useful for subsetting--stay tuned :)"
   ]
  },
  {
   "cell_type": "markdown",
   "metadata": {},
   "source": [
    "#### Methods in Array"
   ]
  },
  {
   "cell_type": "markdown",
   "metadata": {},
   "source": [
    "> Like list, array also has many useful methods."
   ]
  },
  {
   "cell_type": "markdown",
   "metadata": {},
   "source": [
    "##### array.shape"
   ]
  },
  {
   "cell_type": "code",
   "execution_count": 15,
   "metadata": {},
   "outputs": [
    {
     "data": {
      "text/plain": [
       "(2, 5)"
      ]
     },
     "execution_count": 15,
     "metadata": {},
     "output_type": "execute_result"
    }
   ],
   "source": [
    "np.shape(pe_array)"
   ]
  },
  {
   "cell_type": "markdown",
   "metadata": {},
   "source": [
    "##### array.size"
   ]
  },
  {
   "cell_type": "code",
   "execution_count": 16,
   "metadata": {},
   "outputs": [
    {
     "data": {
      "text/plain": [
       "10"
      ]
     },
     "execution_count": 16,
     "metadata": {},
     "output_type": "execute_result"
    }
   ],
   "source": [
    "np.size(pe_array)"
   ]
  },
  {
   "cell_type": "markdown",
   "metadata": {},
   "source": [
    "##### array.transpose"
   ]
  },
  {
   "cell_type": "code",
   "execution_count": 17,
   "metadata": {},
   "outputs": [],
   "source": [
    "pe_array_transposed = np.transpose(pe_array)"
   ]
  },
  {
   "cell_type": "code",
   "execution_count": 18,
   "metadata": {},
   "outputs": [
    {
     "name": "stdout",
     "output_type": "stream",
     "text": [
      "[[ 10.09  99.98]\n",
      " [ 10.28  87.68]\n",
      " [  2.21 154.23]\n",
      " [  6.19 162.12]\n",
      " [  8.24 121.11]]\n"
     ]
    }
   ],
   "source": [
    "print(pe_array_transposed)"
   ]
  },
  {
   "cell_type": "code",
   "execution_count": 19,
   "metadata": {},
   "outputs": [
    {
     "name": "stdout",
     "output_type": "stream",
     "text": [
      "(5, 2)\n",
      "10\n"
     ]
    }
   ],
   "source": [
    "print(pe_array_transposed.shape);print(pe_array_transposed.size)"
   ]
  },
  {
   "cell_type": "markdown",
   "metadata": {},
   "source": [
    "> Remember how to subset nested lists? Subsetting two-dimensional arrays is similar to subsetting nested lists. \n",
    "\n",
    "> In a 2D array, the indexing/slicing should be specific to the dimension of the array: **`array[row, column]`**"
   ]
  },
  {
   "cell_type": "markdown",
   "metadata": {},
   "source": [
    "##### How would you subset `earnings` from the `transposed pe_array`? "
   ]
  },
  {
   "cell_type": "code",
   "execution_count": 20,
   "metadata": {},
   "outputs": [
    {
     "name": "stdout",
     "output_type": "stream",
     "text": [
      "[10.09 10.28  2.21  6.19  8.24]\n"
     ]
    }
   ],
   "source": [
    "earnings = pe_array_transposed[ : , 0]\n",
    "print(earnings)"
   ]
  },
  {
   "cell_type": "markdown",
   "metadata": {},
   "source": [
    "##### How would you subset `prices` from the `transposed pe_array`? "
   ]
  },
  {
   "cell_type": "code",
   "execution_count": 21,
   "metadata": {},
   "outputs": [
    {
     "name": "stdout",
     "output_type": "stream",
     "text": [
      "[ 99.98  87.68 154.23 162.12 121.11]\n"
     ]
    }
   ],
   "source": [
    "prices = pe_array_transposed[ : , -1]\n",
    "print(prices)"
   ]
  },
  {
   "cell_type": "markdown",
   "metadata": {},
   "source": [
    "##### How would you subset the `earnings and prices for third and forth companies` from the `transposed pe_array`?"
   ]
  },
  {
   "cell_type": "code",
   "execution_count": 22,
   "metadata": {},
   "outputs": [
    {
     "name": "stdout",
     "output_type": "stream",
     "text": [
      "[[  2.21 154.23]\n",
      " [  6.19 162.12]]\n"
     ]
    }
   ],
   "source": [
    "pe_34 = pe_array_transposed[2:4, : ]\n",
    "print(pe_34)"
   ]
  },
  {
   "cell_type": "markdown",
   "metadata": {},
   "source": [
    "> ***Review & Expansion of Your Vocabulary: Below are some useful basics for array.***"
   ]
  },
  {
   "cell_type": "code",
   "execution_count": 23,
   "metadata": {},
   "outputs": [
    {
     "data": {
      "text/plain": [
       "2"
      ]
     },
     "execution_count": 23,
     "metadata": {},
     "output_type": "execute_result"
    }
   ],
   "source": [
    "# Get Dimension\n",
    "pe_array_transposed.ndim"
   ]
  },
  {
   "cell_type": "code",
   "execution_count": 24,
   "metadata": {},
   "outputs": [
    {
     "data": {
      "text/plain": [
       "(5, 2)"
      ]
     },
     "execution_count": 24,
     "metadata": {},
     "output_type": "execute_result"
    }
   ],
   "source": [
    "# Get Shape\n",
    "pe_array_transposed.shape"
   ]
  },
  {
   "cell_type": "code",
   "execution_count": 25,
   "metadata": {},
   "outputs": [
    {
     "data": {
      "text/plain": [
       "dtype('float64')"
      ]
     },
     "execution_count": 25,
     "metadata": {},
     "output_type": "execute_result"
    }
   ],
   "source": [
    "# Get Type\n",
    "pe_array_transposed.dtype"
   ]
  },
  {
   "cell_type": "code",
   "execution_count": 26,
   "metadata": {},
   "outputs": [
    {
     "data": {
      "text/plain": [
       "8"
      ]
     },
     "execution_count": 26,
     "metadata": {},
     "output_type": "execute_result"
    }
   ],
   "source": [
    "# Get Size (One Element in Your Array)\n",
    "pe_array_transposed.itemsize"
   ]
  },
  {
   "cell_type": "code",
   "execution_count": 27,
   "metadata": {},
   "outputs": [
    {
     "data": {
      "text/plain": [
       "80"
      ]
     },
     "execution_count": 27,
     "metadata": {},
     "output_type": "execute_result"
    }
   ],
   "source": [
    "# Get Total Size\n",
    "pe_array_transposed.nbytes"
   ]
  },
  {
   "cell_type": "code",
   "execution_count": 28,
   "metadata": {},
   "outputs": [
    {
     "data": {
      "text/plain": [
       "10"
      ]
     },
     "execution_count": 28,
     "metadata": {},
     "output_type": "execute_result"
    }
   ],
   "source": [
    "# Get the Number of Elements\n",
    "pe_array_transposed.size"
   ]
  },
  {
   "cell_type": "code",
   "execution_count": 29,
   "metadata": {},
   "outputs": [
    {
     "data": {
      "text/plain": [
       "87.68"
      ]
     },
     "execution_count": 29,
     "metadata": {},
     "output_type": "execute_result"
    }
   ],
   "source": [
    "# Get a specific element [row, column]\n",
    "pe_array_transposed[1, 1]"
   ]
  },
  {
   "cell_type": "code",
   "execution_count": 30,
   "metadata": {},
   "outputs": [
    {
     "data": {
      "text/plain": [
       "array([ 99.98,  87.68, 154.23, 162.12, 121.11])"
      ]
     },
     "execution_count": 30,
     "metadata": {},
     "output_type": "execute_result"
    }
   ],
   "source": [
    "# Get a specific row \n",
    "pe_array[1, :]"
   ]
  },
  {
   "cell_type": "code",
   "execution_count": 31,
   "metadata": {},
   "outputs": [
    {
     "data": {
      "text/plain": [
       "array([  8.24, 121.11])"
      ]
     },
     "execution_count": 31,
     "metadata": {},
     "output_type": "execute_result"
    }
   ],
   "source": [
    "# Get a specific column\n",
    "pe_array[:, 4]"
   ]
  },
  {
   "cell_type": "code",
   "execution_count": 32,
   "metadata": {},
   "outputs": [
    {
     "data": {
      "text/plain": [
       "array([10.28,  6.19])"
      ]
     },
     "execution_count": 32,
     "metadata": {},
     "output_type": "execute_result"
    }
   ],
   "source": [
    "# Getting a little more fancy [start:end:step]\n",
    "pe_array[0, 1:-1:2]"
   ]
  },
  {
   "cell_type": "markdown",
   "metadata": {},
   "source": [
    "#### `WARNING`: Please be careful when `copying arrays`!"
   ]
  },
  {
   "cell_type": "code",
   "execution_count": 33,
   "metadata": {},
   "outputs": [
    {
     "name": "stdout",
     "output_type": "stream",
     "text": [
      "[100   2   3]\n",
      "[100   2   3]\n"
     ]
    }
   ],
   "source": [
    "a = np.array([1,2,3]) # Imagine that we have one array.\n",
    "b = a\n",
    "b[0] = 100\n",
    "\n",
    "print(b) # This is fine.\n",
    "print(a) # This is weird."
   ]
  },
  {
   "cell_type": "code",
   "execution_count": 34,
   "metadata": {},
   "outputs": [
    {
     "name": "stdout",
     "output_type": "stream",
     "text": [
      "[1 2 3]\n"
     ]
    }
   ],
   "source": [
    "c = np.array([1,2,3])\n",
    "d = c.copy() # use copy method \n",
    "d[0] = 100\n",
    "\n",
    "print(c) # Now this will be fine :)"
   ]
  },
  {
   "cell_type": "markdown",
   "metadata": {},
   "source": [
    "### Mathematics with NumPy"
   ]
  },
  {
   "cell_type": "markdown",
   "metadata": {},
   "source": [
    "> **`We all love mathematics`. For a lot more**, [check this out](https://docs.scipy.org/doc/numpy/reference/routines.math.html)."
   ]
  },
  {
   "cell_type": "markdown",
   "metadata": {},
   "source": [
    "- For example, `linear algebra`, look at [here](https://docs.scipy.org/doc/numpy/reference/routines.linalg.html)."
   ]
  },
  {
   "cell_type": "markdown",
   "metadata": {},
   "source": [
    "#### Statistics\n",
    "\n",
    "> Not only can you perform element-wise calculations on NumPy arrays, you can also calculate summary statistics such as range, mean, and standard deviation of arrays using functions from NumPy."
   ]
  },
  {
   "cell_type": "markdown",
   "metadata": {},
   "source": [
    "##### Calculating the range (minimum and maximum values)"
   ]
  },
  {
   "cell_type": "code",
   "execution_count": 35,
   "metadata": {},
   "outputs": [
    {
     "name": "stdout",
     "output_type": "stream",
     "text": [
      "[[ 10.09  10.28   2.21   6.19   8.24]\n",
      " [ 99.98  87.68 154.23 162.12 121.11]]\n"
     ]
    }
   ],
   "source": [
    "print(pe_array)"
   ]
  },
  {
   "cell_type": "code",
   "execution_count": 36,
   "metadata": {},
   "outputs": [
    {
     "data": {
      "text/plain": [
       "2.21"
      ]
     },
     "execution_count": 36,
     "metadata": {},
     "output_type": "execute_result"
    }
   ],
   "source": [
    "np.min(pe_array)"
   ]
  },
  {
   "cell_type": "code",
   "execution_count": 37,
   "metadata": {},
   "outputs": [
    {
     "data": {
      "text/plain": [
       "array([ 10.28, 162.12])"
      ]
     },
     "execution_count": 37,
     "metadata": {},
     "output_type": "execute_result"
    }
   ],
   "source": [
    "np.max(pe_array, axis=1)"
   ]
  },
  {
   "cell_type": "code",
   "execution_count": 38,
   "metadata": {},
   "outputs": [
    {
     "data": {
      "text/plain": [
       "array([110.07,  97.96, 156.44, 168.31, 129.35])"
      ]
     },
     "execution_count": 38,
     "metadata": {},
     "output_type": "execute_result"
    }
   ],
   "source": [
    "np.sum(pe_array, axis=0)"
   ]
  },
  {
   "cell_type": "markdown",
   "metadata": {},
   "source": [
    "##### Calculating the mean (`mean`) and standard deviation (`std`)"
   ]
  },
  {
   "cell_type": "code",
   "execution_count": 39,
   "metadata": {},
   "outputs": [
    {
     "name": "stdout",
     "output_type": "stream",
     "text": [
      "7.401999999999999\n"
     ]
    }
   ],
   "source": [
    "earnings_mean = np.mean(earnings_array)\n",
    "print(earnings_mean)"
   ]
  },
  {
   "cell_type": "code",
   "execution_count": 40,
   "metadata": {},
   "outputs": [
    {
     "data": {
      "text/plain": [
       "True"
      ]
     },
     "execution_count": 40,
     "metadata": {},
     "output_type": "execute_result"
    }
   ],
   "source": [
    "earnings_mean2 = np.mean(pe_array[0,:])\n",
    "earnings_mean == earnings_mean2"
   ]
  },
  {
   "cell_type": "code",
   "execution_count": 41,
   "metadata": {},
   "outputs": [
    {
     "name": "stdout",
     "output_type": "stream",
     "text": [
      "29.210269837849836\n"
     ]
    }
   ],
   "source": [
    "prices_std = np.std(prices_array)\n",
    "print(prices_std)"
   ]
  },
  {
   "cell_type": "code",
   "execution_count": 42,
   "metadata": {},
   "outputs": [
    {
     "data": {
      "text/plain": [
       "True"
      ]
     },
     "execution_count": 42,
     "metadata": {},
     "output_type": "execute_result"
    }
   ],
   "source": [
    "prices_std2 = np.std(pe_array[-1,:])\n",
    "prices_std == prices_std2"
   ]
  },
  {
   "cell_type": "markdown",
   "metadata": {},
   "source": [
    "##### Generating a sequence of numbers\n",
    "\n",
    "> Often you may want to create an array of a range of numbers (e.g., 1 to 500) without having to type in every single number. \n",
    "\n",
    "> The NumPy function `arange()` is an efficient way to create numeric arrays of a range of numbers--using arange() can be much faster than typing each individual element.\n",
    "\n",
    "> The arguments for `arange()` include the `start`, `stop`, and `step interval` as follows: `np.arange(start, stop, step)`\n"
   ]
  },
  {
   "cell_type": "code",
   "execution_count": 43,
   "metadata": {},
   "outputs": [
    {
     "name": "stdout",
     "output_type": "stream",
     "text": [
      "[  1   2   3   4   5   6   7   8   9  10  11  12  13  14  15  16  17  18\n",
      "  19  20  21  22  23  24  25  26  27  28  29  30  31  32  33  34  35  36\n",
      "  37  38  39  40  41  42  43  44  45  46  47  48  49  50  51  52  53  54\n",
      "  55  56  57  58  59  60  61  62  63  64  65  66  67  68  69  70  71  72\n",
      "  73  74  75  76  77  78  79  80  81  82  83  84  85  86  87  88  89  90\n",
      "  91  92  93  94  95  96  97  98  99 100 101 102 103 104 105 106 107 108\n",
      " 109 110 111 112 113 114 115 116 117 118 119 120 121 122 123 124 125 126\n",
      " 127 128 129 130 131 132 133 134 135 136 137 138 139 140 141 142 143 144\n",
      " 145 146 147 148 149 150 151 152 153 154 155 156 157 158 159 160 161 162\n",
      " 163 164 165 166 167 168 169 170 171 172 173 174 175 176 177 178 179 180\n",
      " 181 182 183 184 185 186 187 188 189 190 191 192 193 194 195 196 197 198\n",
      " 199 200 201 202 203 204 205 206 207 208 209 210 211 212 213 214 215 216\n",
      " 217 218 219 220 221 222 223 224 225 226 227 228 229 230 231 232 233 234\n",
      " 235 236 237 238 239 240 241 242 243 244 245 246 247 248 249 250 251 252\n",
      " 253 254 255 256 257 258 259 260 261 262 263 264 265 266 267 268 269 270\n",
      " 271 272 273 274 275 276 277 278 279 280 281 282 283 284 285 286 287 288\n",
      " 289 290 291 292 293 294 295 296 297 298 299 300 301 302 303 304 305 306\n",
      " 307 308 309 310 311 312 313 314 315 316 317 318 319 320 321 322 323 324\n",
      " 325 326 327 328 329 330 331 332 333 334 335 336 337 338 339 340 341 342\n",
      " 343 344 345 346 347 348 349 350 351 352 353 354 355 356 357 358 359 360\n",
      " 361 362 363 364 365 366 367 368 369 370 371 372 373 374 375 376 377 378\n",
      " 379 380 381 382 383 384 385 386 387 388 389 390 391 392 393 394 395 396\n",
      " 397 398 399 400 401 402 403 404 405 406 407 408 409 410 411 412 413 414\n",
      " 415 416 417 418 419 420 421 422 423 424 425 426 427 428 429 430 431 432\n",
      " 433 434 435 436 437 438 439 440 441 442 443 444 445 446 447 448 449 450\n",
      " 451 452 453 454 455 456 457 458 459 460 461 462 463 464 465 466 467 468\n",
      " 469 470 471 472 473 474 475 476 477 478 479 480 481 482 483 484 485 486\n",
      " 487 488 489 490 491 492 493 494 495 496 497 498 499 500]\n"
     ]
    }
   ],
   "source": [
    "ticker_ids = np.arange(1, 501 , 1)\n",
    "print(ticker_ids)"
   ]
  },
  {
   "cell_type": "markdown",
   "metadata": {},
   "source": [
    "> How would you create `odd numbers only`?"
   ]
  },
  {
   "cell_type": "code",
   "execution_count": 44,
   "metadata": {},
   "outputs": [
    {
     "name": "stdout",
     "output_type": "stream",
     "text": [
      "[  1   3   5   7   9  11  13  15  17  19  21  23  25  27  29  31  33  35\n",
      "  37  39  41  43  45  47  49  51  53  55  57  59  61  63  65  67  69  71\n",
      "  73  75  77  79  81  83  85  87  89  91  93  95  97  99 101 103 105 107\n",
      " 109 111 113 115 117 119 121 123 125 127 129 131 133 135 137 139 141 143\n",
      " 145 147 149 151 153 155 157 159 161 163 165 167 169 171 173 175 177 179\n",
      " 181 183 185 187 189 191 193 195 197 199 201 203 205 207 209 211 213 215\n",
      " 217 219 221 223 225 227 229 231 233 235 237 239 241 243 245 247 249 251\n",
      " 253 255 257 259 261 263 265 267 269 271 273 275 277 279 281 283 285 287\n",
      " 289 291 293 295 297 299 301 303 305 307 309 311 313 315 317 319 321 323\n",
      " 325 327 329 331 333 335 337 339 341 343 345 347 349 351 353 355 357 359\n",
      " 361 363 365 367 369 371 373 375 377 379 381 383 385 387 389 391 393 395\n",
      " 397 399 401 403 405 407 409 411 413 415 417 419 421 423 425 427 429 431\n",
      " 433 435 437 439 441 443 445 447 449 451 453 455 457 459 461 463 465 467\n",
      " 469 471 473 475 477 479 481 483 485 487 489 491 493 495 497 499]\n"
     ]
    }
   ],
   "source": [
    "ticker_ids_odd = np.arange(1, 501, 2)\n",
    "print(ticker_ids_odd)"
   ]
  },
  {
   "cell_type": "markdown",
   "metadata": {},
   "source": [
    "> How would you create **`even`** numbers only then? "
   ]
  },
  {
   "cell_type": "code",
   "execution_count": 45,
   "metadata": {},
   "outputs": [
    {
     "name": "stdout",
     "output_type": "stream",
     "text": [
      "[  2   4   6   8  10  12  14  16  18  20  22  24  26  28  30  32  34  36\n",
      "  38  40  42  44  46  48  50  52  54  56  58  60  62  64  66  68  70  72\n",
      "  74  76  78  80  82  84  86  88  90  92  94  96  98 100 102 104 106 108\n",
      " 110 112 114 116 118 120 122 124 126 128 130 132 134 136 138 140 142 144\n",
      " 146 148 150 152 154 156 158 160 162 164 166 168 170 172 174 176 178 180\n",
      " 182 184 186 188 190 192 194 196 198 200 202 204 206 208 210 212 214 216\n",
      " 218 220 222 224 226 228 230 232 234 236 238 240 242 244 246 248 250 252\n",
      " 254 256 258 260 262 264 266 268 270 272 274 276 278 280 282 284 286 288\n",
      " 290 292 294 296 298 300 302 304 306 308 310 312 314 316 318 320 322 324\n",
      " 326 328 330 332 334 336 338 340 342 344 346 348 350 352 354 356 358 360\n",
      " 362 364 366 368 370 372 374 376 378 380 382 384 386 388 390 392 394 396\n",
      " 398 400 402 404 406 408 410 412 414 416 418 420 422 424 426 428 430 432\n",
      " 434 436 438 440 442 444 446 448 450 452 454 456 458 460 462 464 466 468\n",
      " 470 472 474 476 478 480 482 484 486 488 490 492 494 496 498 500]\n"
     ]
    }
   ],
   "source": [
    "ticker_ids_even = ticker_ids_odd + 1\n",
    "print(ticker_ids_even)"
   ]
  },
  {
   "cell_type": "markdown",
   "metadata": {},
   "source": [
    "#### Boolean arrays can be a very powerful way to subset arrays. \n",
    "\n",
    "> As a case in point, let's try to identify the earnings that are greater than average from a list of earnings.\n",
    "\n",
    "> To do so, let's find the mean value of earnings first."
   ]
  },
  {
   "cell_type": "code",
   "execution_count": 46,
   "metadata": {},
   "outputs": [],
   "source": [
    "earnings_mean = np.mean(earnings_array)"
   ]
  },
  {
   "cell_type": "markdown",
   "metadata": {},
   "source": [
    "##### How would you index earnings that are lesser than average\n",
    "\n",
    "> Hint: You might want to create a boolean array first."
   ]
  },
  {
   "cell_type": "code",
   "execution_count": 47,
   "metadata": {},
   "outputs": [
    {
     "name": "stdout",
     "output_type": "stream",
     "text": [
      "[False False  True  True False]\n"
     ]
    }
   ],
   "source": [
    "boolean_array = (earnings_array < earnings_mean)\n",
    "print(boolean_array)"
   ]
  },
  {
   "cell_type": "code",
   "execution_count": 48,
   "metadata": {},
   "outputs": [
    {
     "name": "stdout",
     "output_type": "stream",
     "text": [
      "[2.21 6.19]\n"
     ]
    }
   ],
   "source": [
    "earnings_below_mean = earnings[boolean_array]\n",
    "print(earnings_below_mean)"
   ]
  },
  {
   "cell_type": "code",
   "execution_count": 49,
   "metadata": {},
   "outputs": [
    {
     "data": {
      "text/plain": [
       "array([ True,  True])"
      ]
     },
     "execution_count": 49,
     "metadata": {},
     "output_type": "execute_result"
    }
   ],
   "source": [
    "earnings_below_mean2 = earnings[earnings_array < earnings_mean]\n",
    "earnings_below_mean == earnings_below_mean2"
   ]
  },
  {
   "cell_type": "markdown",
   "metadata": {},
   "source": [
    "> Boolean array can be used for strings as well. \n",
    "\n",
    "> Let's create the names of companies with their associated industry first. \n",
    "\n",
    "> Here, your want to find all companies that are categorized as `Investment Services` industry."
   ]
  },
  {
   "cell_type": "code",
   "execution_count": 50,
   "metadata": {},
   "outputs": [
    {
     "name": "stdout",
     "output_type": "stream",
     "text": [
      "[['Facebook' 'Amazon' 'Goldman Sachs' 'Red Bull' 'Wells Fargo' 'McKinsey'\n",
      "  'Tesla']\n",
      " ['Internet' 'Internet' 'Investment Services' 'Food & Beverage'\n",
      "  'Investment Services' 'Management Consulting' 'Mobility']]\n"
     ]
    }
   ],
   "source": [
    "company_array = np.array([\"Facebook\", \"Amazon\", \"Goldman Sachs\", \"Red Bull\", \n",
    "                         \"Wells Fargo\", \"McKinsey\", \"Tesla\"])\n",
    "industry_array = np.array([\"Internet\", \"Internet\", \"Investment Services\", \"Food & Beverage\", \n",
    "                          \"Investment Services\", \"Management Consulting\", \"Mobility\"])\n",
    "\n",
    "company_industry_array = np.array([company_array, industry_array])\n",
    "print(company_industry_array)"
   ]
  },
  {
   "cell_type": "markdown",
   "metadata": {},
   "source": [
    "##### How would you subset Investment Services industry and print companies in Investment Servecies?"
   ]
  },
  {
   "cell_type": "code",
   "execution_count": 51,
   "metadata": {},
   "outputs": [
    {
     "name": "stdout",
     "output_type": "stream",
     "text": [
      "[False False  True False  True False False]\n"
     ]
    }
   ],
   "source": [
    "bool_array = (industry_array == \"Investment Services\")\n",
    "print(bool_array)"
   ]
  },
  {
   "cell_type": "code",
   "execution_count": 52,
   "metadata": {},
   "outputs": [
    {
     "name": "stdout",
     "output_type": "stream",
     "text": [
      "['Goldman Sachs' 'Wells Fargo']\n"
     ]
    }
   ],
   "source": [
    "investment_services = company_array[bool_array]\n",
    "print(investment_services)"
   ]
  },
  {
   "cell_type": "markdown",
   "metadata": {},
   "source": [
    "> For your information, there is numpy_financial package that contains a collection of elementary financial functions. \n",
    "\n",
    "> It will make your life easier when working with financial values.\n",
    "\n",
    "> For example, the function .pv(rate, nper, pmt, fv) allows you to calculate the present value of an investment with some parameters:\n",
    "\n",
    "- `rate` The rate of return of the investment\n",
    "- `nper` The lifespan of the investment\n",
    "- `pmt` The (fixed) payment at the beginning or end of each period\n",
    "- `fv` The future value of the investment\n",
    "\n",
    "> You can use this formula in many ways (e.g., you can calculate the present value of future investments in today's dollars)."
   ]
  },
  {
   "cell_type": "code",
   "execution_count": 53,
   "metadata": {},
   "outputs": [],
   "source": [
    "import numpy_financial as npf"
   ]
  },
  {
   "cell_type": "markdown",
   "metadata": {},
   "source": [
    "> Before you run the code above, you should have installed the package `numpy-financial`."
   ]
  },
  {
   "cell_type": "code",
   "execution_count": 54,
   "metadata": {},
   "outputs": [],
   "source": [
    "your_investment = npf.pv(rate=0.04, nper=20, pmt=0, fv=15000)"
   ]
  },
  {
   "cell_type": "markdown",
   "metadata": {},
   "source": [
    "> Here, the present value returned is negative, so we multiply the result by -1"
   ]
  },
  {
   "cell_type": "code",
   "execution_count": 55,
   "metadata": {},
   "outputs": [
    {
     "name": "stdout",
     "output_type": "stream",
     "text": [
      "Your Investment is worth 6845.8 in today's dollars\n"
     ]
    }
   ],
   "source": [
    "print(\"Your Investment is worth \" + str(round(-your_investment, 2)) + \" in today's dollars\")"
   ]
  },
  {
   "cell_type": "code",
   "execution_count": 56,
   "metadata": {},
   "outputs": [
    {
     "name": "stdout",
     "output_type": "stream",
     "text": [
      "Your friend's investment is worth 6793.36 in today's dollars\n"
     ]
    }
   ],
   "source": [
    "your_friend_investment = npf.pv(rate=0.02, nper=40, pmt=0, fv=15000)\n",
    "print(\"Your friend's investment is worth \" + str(round(-your_friend_investment, 2)) + \" in today's dollars\")"
   ]
  },
  {
   "cell_type": "markdown",
   "metadata": {},
   "source": [
    "> Similarly, you can also calculate the future value of an investment the following parameters:\n",
    "\n",
    "- `rate` The rate of return of the investment\n",
    "- `nper` The lifespan of the investment\n",
    "- `pmt` The (fixed) payment at the beginning or end of each period (which is 0 in our example)\n",
    "- `pv` The present value of the investment\n",
    "\n",
    "> Here, you can use the function .fv(rate, nper, pmt, pv).\n",
    "\n",
    "> Note that you should `input a negative value into the pv parameter` if it represents `a negative cash flow (cash going out)`. \n",
    "\n",
    "> That is, if you were to compute the future value of an investment, requiring an up-front cash payment, you would need to `input a negative value to the pv parameter` in the function .fv()."
   ]
  },
  {
   "cell_type": "markdown",
   "metadata": {},
   "source": [
    "# Estimate Your Investment's Future Value"
   ]
  },
  {
   "cell_type": "code",
   "execution_count": 57,
   "metadata": {},
   "outputs": [
    {
     "name": "stdout",
     "output_type": "stream",
     "text": [
      "Your investment will return a total of $43822.46 in 20 years\n"
     ]
    }
   ],
   "source": [
    "your_investment_future = npf.fv(rate=0.04, nper=20, pmt=0, pv=-20000)\n",
    "print(\"Your investment will return a total of $\" + str(round(your_investment_future, 2)) + \" in 20 years\")"
   ]
  },
  {
   "cell_type": "markdown",
   "metadata": {},
   "source": [
    "# Estimate the Future Value of Your Friend's Investment"
   ]
  },
  {
   "cell_type": "code",
   "execution_count": 58,
   "metadata": {},
   "outputs": [
    {
     "name": "stdout",
     "output_type": "stream",
     "text": [
      "The future value of your friend's investment will return a total of $93219.14 in 20 years\n"
     ]
    }
   ],
   "source": [
    "your_friend_investment_future = npf.fv(rate=0.08, nper=20, pmt=0, pv=-20000)\n",
    "print(\"The future value of your friend's investment will return a total of $\" + str(round(your_friend_investment_future, 2)) + \" in 20 years\")"
   ]
  },
  {
   "cell_type": "markdown",
   "metadata": {},
   "source": [
    "##### Now let's adjust future values of your investment for inflation with the following steps:\n",
    "\n",
    "**1. forecast the future value of an investment given a rate of return**\n",
    "\n",
    "**2. discount the future value of the investment by a projected inflation rate**\n",
    "\n",
    "> Here, we will `utilize both functions .fv() and .pv()` to estimate the projected value of a given investment in today's dollars, adjusted for inflation."
   ]
  },
  {
   "cell_type": "markdown",
   "metadata": {},
   "source": [
    "> ***Scenario***: `Investment returning 7% per year for 25 years`"
   ]
  },
  {
   "cell_type": "code",
   "execution_count": 59,
   "metadata": {},
   "outputs": [
    {
     "name": "stdout",
     "output_type": "stream",
     "text": [
      "Your brother's investment will return a total of $81411.49 in 25 years\n"
     ]
    }
   ],
   "source": [
    "your_brother_investment = npf.fv(rate=0.07, nper=25, pmt=0, pv=-15000)\n",
    "print(\"Your brother's investment will return a total of $\" + str(round(your_brother_investment, 2)) + \" in 25 years\")"
   ]
  },
  {
   "cell_type": "markdown",
   "metadata": {},
   "source": [
    "> ***Scenario***: `Inflation rate of 2.5% per year for 25 years`"
   ]
  },
  {
   "cell_type": "code",
   "execution_count": 60,
   "metadata": {},
   "outputs": [
    {
     "name": "stdout",
     "output_type": "stream",
     "text": [
      "After adjusting for inflation, your brother's investment is worth $43912.59 in today's dollars\n"
     ]
    }
   ],
   "source": [
    "your_brother_investment_discounted = npf.pv(rate=0.025, nper=25, pmt=0, fv=your_brother_investment)\n",
    "print(\"After adjusting for inflation, your brother's investment is worth $\" + str(round(-your_brother_investment_discounted, 2)) + \" in today's dollars\")"
   ]
  },
  {
   "cell_type": "markdown",
   "metadata": {},
   "source": [
    "> `Thank you for working with the script :)`"
   ]
  },
  {
   "cell_type": "code",
   "execution_count": 61,
   "metadata": {},
   "outputs": [],
   "source": [
    "exit()"
   ]
  }
 ],
 "metadata": {
  "kernelspec": {
   "display_name": "Python 3",
   "language": "python",
   "name": "python3"
  },
  "language_info": {
   "codemirror_mode": {
    "name": "ipython",
    "version": 3
   },
   "file_extension": ".py",
   "mimetype": "text/x-python",
   "name": "python",
   "nbconvert_exporter": "python",
   "pygments_lexer": "ipython3",
   "version": "3.8.3"
  }
 },
 "nbformat": 4,
 "nbformat_minor": 4
}
