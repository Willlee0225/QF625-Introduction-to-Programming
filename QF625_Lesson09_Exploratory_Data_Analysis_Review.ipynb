{
 "cells": [
  {
   "cell_type": "markdown",
   "metadata": {},
   "source": [
    "# QF 625 Introduction to Programming\n",
    "## Lesson 09 | A Sample Exploratory Data Analysis (EDA) | `RE`view"
   ]
  },
  {
   "cell_type": "markdown",
   "metadata": {},
   "source": [
    "### Let's import necessary modules first."
   ]
  },
  {
   "cell_type": "code",
   "execution_count": 1,
   "metadata": {},
   "outputs": [],
   "source": [
    "import numpy as np\n",
    "import pandas as pd\n",
    "import matplotlib.pyplot as plt\n",
    "import seaborn as sns\n",
    "\n",
    "%matplotlib inline"
   ]
  },
  {
   "cell_type": "code",
   "execution_count": 2,
   "metadata": {},
   "outputs": [],
   "source": [
    "pd.set_option(\"max_rows\", 30)\n",
    "pd.set_option(\"min_rows\", 20)"
   ]
  },
  {
   "cell_type": "code",
   "execution_count": 3,
   "metadata": {},
   "outputs": [
    {
     "name": "stderr",
     "output_type": "stream",
     "text": [
      "/Users/willlee/opt/anaconda3/lib/python3.8/site-packages/IPython/core/interactiveshell.py:3071: DtypeWarning: Columns (47) have mixed types.Specify dtype option on import or set low_memory=False.\n",
      "  has_raised = await self.run_ast_nodes(code_ast.body, cell_name,\n"
     ]
    },
    {
     "data": {
      "text/html": [
       "<div>\n",
       "<style scoped>\n",
       "    .dataframe tbody tr th:only-of-type {\n",
       "        vertical-align: middle;\n",
       "    }\n",
       "\n",
       "    .dataframe tbody tr th {\n",
       "        vertical-align: top;\n",
       "    }\n",
       "\n",
       "    .dataframe thead th {\n",
       "        text-align: right;\n",
       "    }\n",
       "</style>\n",
       "<table border=\"1\" class=\"dataframe\">\n",
       "  <thead>\n",
       "    <tr style=\"text-align: right;\">\n",
       "      <th></th>\n",
       "      <th>id</th>\n",
       "      <th>member_id</th>\n",
       "      <th>loan_amnt</th>\n",
       "      <th>funded_amnt</th>\n",
       "      <th>funded_amnt_inv</th>\n",
       "      <th>term</th>\n",
       "      <th>int_rate</th>\n",
       "      <th>installment</th>\n",
       "      <th>grade</th>\n",
       "      <th>sub_grade</th>\n",
       "      <th>...</th>\n",
       "      <th>num_tl_90g_dpd_24m</th>\n",
       "      <th>num_tl_op_past_12m</th>\n",
       "      <th>pct_tl_nvr_dlq</th>\n",
       "      <th>percent_bc_gt_75</th>\n",
       "      <th>pub_rec_bankruptcies</th>\n",
       "      <th>tax_liens</th>\n",
       "      <th>tot_hi_cred_lim</th>\n",
       "      <th>total_bal_ex_mort</th>\n",
       "      <th>total_bc_limit</th>\n",
       "      <th>total_il_high_credit_limit</th>\n",
       "    </tr>\n",
       "  </thead>\n",
       "  <tbody>\n",
       "    <tr>\n",
       "      <th>0</th>\n",
       "      <td>1077501</td>\n",
       "      <td>1296599</td>\n",
       "      <td>5000</td>\n",
       "      <td>5000</td>\n",
       "      <td>4975.0</td>\n",
       "      <td>36 months</td>\n",
       "      <td>10.65%</td>\n",
       "      <td>162.87</td>\n",
       "      <td>B</td>\n",
       "      <td>B2</td>\n",
       "      <td>...</td>\n",
       "      <td>NaN</td>\n",
       "      <td>NaN</td>\n",
       "      <td>NaN</td>\n",
       "      <td>NaN</td>\n",
       "      <td>0.0</td>\n",
       "      <td>0.0</td>\n",
       "      <td>NaN</td>\n",
       "      <td>NaN</td>\n",
       "      <td>NaN</td>\n",
       "      <td>NaN</td>\n",
       "    </tr>\n",
       "    <tr>\n",
       "      <th>1</th>\n",
       "      <td>1077430</td>\n",
       "      <td>1314167</td>\n",
       "      <td>2500</td>\n",
       "      <td>2500</td>\n",
       "      <td>2500.0</td>\n",
       "      <td>60 months</td>\n",
       "      <td>15.27%</td>\n",
       "      <td>59.83</td>\n",
       "      <td>C</td>\n",
       "      <td>C4</td>\n",
       "      <td>...</td>\n",
       "      <td>NaN</td>\n",
       "      <td>NaN</td>\n",
       "      <td>NaN</td>\n",
       "      <td>NaN</td>\n",
       "      <td>0.0</td>\n",
       "      <td>0.0</td>\n",
       "      <td>NaN</td>\n",
       "      <td>NaN</td>\n",
       "      <td>NaN</td>\n",
       "      <td>NaN</td>\n",
       "    </tr>\n",
       "    <tr>\n",
       "      <th>2</th>\n",
       "      <td>1077175</td>\n",
       "      <td>1313524</td>\n",
       "      <td>2400</td>\n",
       "      <td>2400</td>\n",
       "      <td>2400.0</td>\n",
       "      <td>36 months</td>\n",
       "      <td>15.96%</td>\n",
       "      <td>84.33</td>\n",
       "      <td>C</td>\n",
       "      <td>C5</td>\n",
       "      <td>...</td>\n",
       "      <td>NaN</td>\n",
       "      <td>NaN</td>\n",
       "      <td>NaN</td>\n",
       "      <td>NaN</td>\n",
       "      <td>0.0</td>\n",
       "      <td>0.0</td>\n",
       "      <td>NaN</td>\n",
       "      <td>NaN</td>\n",
       "      <td>NaN</td>\n",
       "      <td>NaN</td>\n",
       "    </tr>\n",
       "    <tr>\n",
       "      <th>3</th>\n",
       "      <td>1076863</td>\n",
       "      <td>1277178</td>\n",
       "      <td>10000</td>\n",
       "      <td>10000</td>\n",
       "      <td>10000.0</td>\n",
       "      <td>36 months</td>\n",
       "      <td>13.49%</td>\n",
       "      <td>339.31</td>\n",
       "      <td>C</td>\n",
       "      <td>C1</td>\n",
       "      <td>...</td>\n",
       "      <td>NaN</td>\n",
       "      <td>NaN</td>\n",
       "      <td>NaN</td>\n",
       "      <td>NaN</td>\n",
       "      <td>0.0</td>\n",
       "      <td>0.0</td>\n",
       "      <td>NaN</td>\n",
       "      <td>NaN</td>\n",
       "      <td>NaN</td>\n",
       "      <td>NaN</td>\n",
       "    </tr>\n",
       "    <tr>\n",
       "      <th>4</th>\n",
       "      <td>1075358</td>\n",
       "      <td>1311748</td>\n",
       "      <td>3000</td>\n",
       "      <td>3000</td>\n",
       "      <td>3000.0</td>\n",
       "      <td>60 months</td>\n",
       "      <td>12.69%</td>\n",
       "      <td>67.79</td>\n",
       "      <td>B</td>\n",
       "      <td>B5</td>\n",
       "      <td>...</td>\n",
       "      <td>NaN</td>\n",
       "      <td>NaN</td>\n",
       "      <td>NaN</td>\n",
       "      <td>NaN</td>\n",
       "      <td>0.0</td>\n",
       "      <td>0.0</td>\n",
       "      <td>NaN</td>\n",
       "      <td>NaN</td>\n",
       "      <td>NaN</td>\n",
       "      <td>NaN</td>\n",
       "    </tr>\n",
       "    <tr>\n",
       "      <th>5</th>\n",
       "      <td>1075269</td>\n",
       "      <td>1311441</td>\n",
       "      <td>5000</td>\n",
       "      <td>5000</td>\n",
       "      <td>5000.0</td>\n",
       "      <td>36 months</td>\n",
       "      <td>7.90%</td>\n",
       "      <td>156.46</td>\n",
       "      <td>A</td>\n",
       "      <td>A4</td>\n",
       "      <td>...</td>\n",
       "      <td>NaN</td>\n",
       "      <td>NaN</td>\n",
       "      <td>NaN</td>\n",
       "      <td>NaN</td>\n",
       "      <td>0.0</td>\n",
       "      <td>0.0</td>\n",
       "      <td>NaN</td>\n",
       "      <td>NaN</td>\n",
       "      <td>NaN</td>\n",
       "      <td>NaN</td>\n",
       "    </tr>\n",
       "    <tr>\n",
       "      <th>6</th>\n",
       "      <td>1069639</td>\n",
       "      <td>1304742</td>\n",
       "      <td>7000</td>\n",
       "      <td>7000</td>\n",
       "      <td>7000.0</td>\n",
       "      <td>60 months</td>\n",
       "      <td>15.96%</td>\n",
       "      <td>170.08</td>\n",
       "      <td>C</td>\n",
       "      <td>C5</td>\n",
       "      <td>...</td>\n",
       "      <td>NaN</td>\n",
       "      <td>NaN</td>\n",
       "      <td>NaN</td>\n",
       "      <td>NaN</td>\n",
       "      <td>0.0</td>\n",
       "      <td>0.0</td>\n",
       "      <td>NaN</td>\n",
       "      <td>NaN</td>\n",
       "      <td>NaN</td>\n",
       "      <td>NaN</td>\n",
       "    </tr>\n",
       "    <tr>\n",
       "      <th>7</th>\n",
       "      <td>1072053</td>\n",
       "      <td>1288686</td>\n",
       "      <td>3000</td>\n",
       "      <td>3000</td>\n",
       "      <td>3000.0</td>\n",
       "      <td>36 months</td>\n",
       "      <td>18.64%</td>\n",
       "      <td>109.43</td>\n",
       "      <td>E</td>\n",
       "      <td>E1</td>\n",
       "      <td>...</td>\n",
       "      <td>NaN</td>\n",
       "      <td>NaN</td>\n",
       "      <td>NaN</td>\n",
       "      <td>NaN</td>\n",
       "      <td>0.0</td>\n",
       "      <td>0.0</td>\n",
       "      <td>NaN</td>\n",
       "      <td>NaN</td>\n",
       "      <td>NaN</td>\n",
       "      <td>NaN</td>\n",
       "    </tr>\n",
       "    <tr>\n",
       "      <th>8</th>\n",
       "      <td>1071795</td>\n",
       "      <td>1306957</td>\n",
       "      <td>5600</td>\n",
       "      <td>5600</td>\n",
       "      <td>5600.0</td>\n",
       "      <td>60 months</td>\n",
       "      <td>21.28%</td>\n",
       "      <td>152.39</td>\n",
       "      <td>F</td>\n",
       "      <td>F2</td>\n",
       "      <td>...</td>\n",
       "      <td>NaN</td>\n",
       "      <td>NaN</td>\n",
       "      <td>NaN</td>\n",
       "      <td>NaN</td>\n",
       "      <td>0.0</td>\n",
       "      <td>0.0</td>\n",
       "      <td>NaN</td>\n",
       "      <td>NaN</td>\n",
       "      <td>NaN</td>\n",
       "      <td>NaN</td>\n",
       "    </tr>\n",
       "    <tr>\n",
       "      <th>9</th>\n",
       "      <td>1071570</td>\n",
       "      <td>1306721</td>\n",
       "      <td>5375</td>\n",
       "      <td>5375</td>\n",
       "      <td>5350.0</td>\n",
       "      <td>60 months</td>\n",
       "      <td>12.69%</td>\n",
       "      <td>121.45</td>\n",
       "      <td>B</td>\n",
       "      <td>B5</td>\n",
       "      <td>...</td>\n",
       "      <td>NaN</td>\n",
       "      <td>NaN</td>\n",
       "      <td>NaN</td>\n",
       "      <td>NaN</td>\n",
       "      <td>0.0</td>\n",
       "      <td>0.0</td>\n",
       "      <td>NaN</td>\n",
       "      <td>NaN</td>\n",
       "      <td>NaN</td>\n",
       "      <td>NaN</td>\n",
       "    </tr>\n",
       "    <tr>\n",
       "      <th>...</th>\n",
       "      <td>...</td>\n",
       "      <td>...</td>\n",
       "      <td>...</td>\n",
       "      <td>...</td>\n",
       "      <td>...</td>\n",
       "      <td>...</td>\n",
       "      <td>...</td>\n",
       "      <td>...</td>\n",
       "      <td>...</td>\n",
       "      <td>...</td>\n",
       "      <td>...</td>\n",
       "      <td>...</td>\n",
       "      <td>...</td>\n",
       "      <td>...</td>\n",
       "      <td>...</td>\n",
       "      <td>...</td>\n",
       "      <td>...</td>\n",
       "      <td>...</td>\n",
       "      <td>...</td>\n",
       "      <td>...</td>\n",
       "      <td>...</td>\n",
       "    </tr>\n",
       "    <tr>\n",
       "      <th>39707</th>\n",
       "      <td>92666</td>\n",
       "      <td>92661</td>\n",
       "      <td>5000</td>\n",
       "      <td>5000</td>\n",
       "      <td>525.0</td>\n",
       "      <td>36 months</td>\n",
       "      <td>9.33%</td>\n",
       "      <td>159.77</td>\n",
       "      <td>B</td>\n",
       "      <td>B3</td>\n",
       "      <td>...</td>\n",
       "      <td>NaN</td>\n",
       "      <td>NaN</td>\n",
       "      <td>NaN</td>\n",
       "      <td>NaN</td>\n",
       "      <td>NaN</td>\n",
       "      <td>NaN</td>\n",
       "      <td>NaN</td>\n",
       "      <td>NaN</td>\n",
       "      <td>NaN</td>\n",
       "      <td>NaN</td>\n",
       "    </tr>\n",
       "    <tr>\n",
       "      <th>39708</th>\n",
       "      <td>92552</td>\n",
       "      <td>92542</td>\n",
       "      <td>5000</td>\n",
       "      <td>5000</td>\n",
       "      <td>375.0</td>\n",
       "      <td>36 months</td>\n",
       "      <td>9.96%</td>\n",
       "      <td>161.25</td>\n",
       "      <td>B</td>\n",
       "      <td>B5</td>\n",
       "      <td>...</td>\n",
       "      <td>NaN</td>\n",
       "      <td>NaN</td>\n",
       "      <td>NaN</td>\n",
       "      <td>NaN</td>\n",
       "      <td>NaN</td>\n",
       "      <td>NaN</td>\n",
       "      <td>NaN</td>\n",
       "      <td>NaN</td>\n",
       "      <td>NaN</td>\n",
       "      <td>NaN</td>\n",
       "    </tr>\n",
       "    <tr>\n",
       "      <th>39709</th>\n",
       "      <td>92533</td>\n",
       "      <td>92529</td>\n",
       "      <td>5000</td>\n",
       "      <td>5000</td>\n",
       "      <td>675.0</td>\n",
       "      <td>36 months</td>\n",
       "      <td>11.22%</td>\n",
       "      <td>164.23</td>\n",
       "      <td>C</td>\n",
       "      <td>C4</td>\n",
       "      <td>...</td>\n",
       "      <td>NaN</td>\n",
       "      <td>NaN</td>\n",
       "      <td>NaN</td>\n",
       "      <td>NaN</td>\n",
       "      <td>NaN</td>\n",
       "      <td>NaN</td>\n",
       "      <td>NaN</td>\n",
       "      <td>NaN</td>\n",
       "      <td>NaN</td>\n",
       "      <td>NaN</td>\n",
       "    </tr>\n",
       "    <tr>\n",
       "      <th>39710</th>\n",
       "      <td>92507</td>\n",
       "      <td>92502</td>\n",
       "      <td>5000</td>\n",
       "      <td>5000</td>\n",
       "      <td>250.0</td>\n",
       "      <td>36 months</td>\n",
       "      <td>7.43%</td>\n",
       "      <td>155.38</td>\n",
       "      <td>A</td>\n",
       "      <td>A2</td>\n",
       "      <td>...</td>\n",
       "      <td>NaN</td>\n",
       "      <td>NaN</td>\n",
       "      <td>NaN</td>\n",
       "      <td>NaN</td>\n",
       "      <td>NaN</td>\n",
       "      <td>NaN</td>\n",
       "      <td>NaN</td>\n",
       "      <td>NaN</td>\n",
       "      <td>NaN</td>\n",
       "      <td>NaN</td>\n",
       "    </tr>\n",
       "    <tr>\n",
       "      <th>39711</th>\n",
       "      <td>92402</td>\n",
       "      <td>92390</td>\n",
       "      <td>5000</td>\n",
       "      <td>5000</td>\n",
       "      <td>700.0</td>\n",
       "      <td>36 months</td>\n",
       "      <td>8.70%</td>\n",
       "      <td>158.30</td>\n",
       "      <td>B</td>\n",
       "      <td>B1</td>\n",
       "      <td>...</td>\n",
       "      <td>NaN</td>\n",
       "      <td>NaN</td>\n",
       "      <td>NaN</td>\n",
       "      <td>NaN</td>\n",
       "      <td>NaN</td>\n",
       "      <td>NaN</td>\n",
       "      <td>NaN</td>\n",
       "      <td>NaN</td>\n",
       "      <td>NaN</td>\n",
       "      <td>NaN</td>\n",
       "    </tr>\n",
       "    <tr>\n",
       "      <th>39712</th>\n",
       "      <td>92187</td>\n",
       "      <td>92174</td>\n",
       "      <td>2500</td>\n",
       "      <td>2500</td>\n",
       "      <td>1075.0</td>\n",
       "      <td>36 months</td>\n",
       "      <td>8.07%</td>\n",
       "      <td>78.42</td>\n",
       "      <td>A</td>\n",
       "      <td>A4</td>\n",
       "      <td>...</td>\n",
       "      <td>NaN</td>\n",
       "      <td>NaN</td>\n",
       "      <td>NaN</td>\n",
       "      <td>NaN</td>\n",
       "      <td>NaN</td>\n",
       "      <td>NaN</td>\n",
       "      <td>NaN</td>\n",
       "      <td>NaN</td>\n",
       "      <td>NaN</td>\n",
       "      <td>NaN</td>\n",
       "    </tr>\n",
       "    <tr>\n",
       "      <th>39713</th>\n",
       "      <td>90665</td>\n",
       "      <td>90607</td>\n",
       "      <td>8500</td>\n",
       "      <td>8500</td>\n",
       "      <td>875.0</td>\n",
       "      <td>36 months</td>\n",
       "      <td>10.28%</td>\n",
       "      <td>275.38</td>\n",
       "      <td>C</td>\n",
       "      <td>C1</td>\n",
       "      <td>...</td>\n",
       "      <td>NaN</td>\n",
       "      <td>NaN</td>\n",
       "      <td>NaN</td>\n",
       "      <td>NaN</td>\n",
       "      <td>NaN</td>\n",
       "      <td>NaN</td>\n",
       "      <td>NaN</td>\n",
       "      <td>NaN</td>\n",
       "      <td>NaN</td>\n",
       "      <td>NaN</td>\n",
       "    </tr>\n",
       "    <tr>\n",
       "      <th>39714</th>\n",
       "      <td>90395</td>\n",
       "      <td>90390</td>\n",
       "      <td>5000</td>\n",
       "      <td>5000</td>\n",
       "      <td>1325.0</td>\n",
       "      <td>36 months</td>\n",
       "      <td>8.07%</td>\n",
       "      <td>156.84</td>\n",
       "      <td>A</td>\n",
       "      <td>A4</td>\n",
       "      <td>...</td>\n",
       "      <td>NaN</td>\n",
       "      <td>NaN</td>\n",
       "      <td>NaN</td>\n",
       "      <td>NaN</td>\n",
       "      <td>NaN</td>\n",
       "      <td>NaN</td>\n",
       "      <td>NaN</td>\n",
       "      <td>NaN</td>\n",
       "      <td>NaN</td>\n",
       "      <td>NaN</td>\n",
       "    </tr>\n",
       "    <tr>\n",
       "      <th>39715</th>\n",
       "      <td>90376</td>\n",
       "      <td>89243</td>\n",
       "      <td>5000</td>\n",
       "      <td>5000</td>\n",
       "      <td>650.0</td>\n",
       "      <td>36 months</td>\n",
       "      <td>7.43%</td>\n",
       "      <td>155.38</td>\n",
       "      <td>A</td>\n",
       "      <td>A2</td>\n",
       "      <td>...</td>\n",
       "      <td>NaN</td>\n",
       "      <td>NaN</td>\n",
       "      <td>NaN</td>\n",
       "      <td>NaN</td>\n",
       "      <td>NaN</td>\n",
       "      <td>NaN</td>\n",
       "      <td>NaN</td>\n",
       "      <td>NaN</td>\n",
       "      <td>NaN</td>\n",
       "      <td>NaN</td>\n",
       "    </tr>\n",
       "    <tr>\n",
       "      <th>39716</th>\n",
       "      <td>87023</td>\n",
       "      <td>86999</td>\n",
       "      <td>7500</td>\n",
       "      <td>7500</td>\n",
       "      <td>800.0</td>\n",
       "      <td>36 months</td>\n",
       "      <td>13.75%</td>\n",
       "      <td>255.43</td>\n",
       "      <td>E</td>\n",
       "      <td>E2</td>\n",
       "      <td>...</td>\n",
       "      <td>NaN</td>\n",
       "      <td>NaN</td>\n",
       "      <td>NaN</td>\n",
       "      <td>NaN</td>\n",
       "      <td>NaN</td>\n",
       "      <td>NaN</td>\n",
       "      <td>NaN</td>\n",
       "      <td>NaN</td>\n",
       "      <td>NaN</td>\n",
       "      <td>NaN</td>\n",
       "    </tr>\n",
       "  </tbody>\n",
       "</table>\n",
       "<p>39717 rows × 111 columns</p>\n",
       "</div>"
      ],
      "text/plain": [
       "            id  member_id  loan_amnt  funded_amnt  funded_amnt_inv  \\\n",
       "0      1077501    1296599       5000         5000           4975.0   \n",
       "1      1077430    1314167       2500         2500           2500.0   \n",
       "2      1077175    1313524       2400         2400           2400.0   \n",
       "3      1076863    1277178      10000        10000          10000.0   \n",
       "4      1075358    1311748       3000         3000           3000.0   \n",
       "5      1075269    1311441       5000         5000           5000.0   \n",
       "6      1069639    1304742       7000         7000           7000.0   \n",
       "7      1072053    1288686       3000         3000           3000.0   \n",
       "8      1071795    1306957       5600         5600           5600.0   \n",
       "9      1071570    1306721       5375         5375           5350.0   \n",
       "...        ...        ...        ...          ...              ...   \n",
       "39707    92666      92661       5000         5000            525.0   \n",
       "39708    92552      92542       5000         5000            375.0   \n",
       "39709    92533      92529       5000         5000            675.0   \n",
       "39710    92507      92502       5000         5000            250.0   \n",
       "39711    92402      92390       5000         5000            700.0   \n",
       "39712    92187      92174       2500         2500           1075.0   \n",
       "39713    90665      90607       8500         8500            875.0   \n",
       "39714    90395      90390       5000         5000           1325.0   \n",
       "39715    90376      89243       5000         5000            650.0   \n",
       "39716    87023      86999       7500         7500            800.0   \n",
       "\n",
       "             term int_rate  installment grade sub_grade  ...  \\\n",
       "0       36 months   10.65%       162.87     B        B2  ...   \n",
       "1       60 months   15.27%        59.83     C        C4  ...   \n",
       "2       36 months   15.96%        84.33     C        C5  ...   \n",
       "3       36 months   13.49%       339.31     C        C1  ...   \n",
       "4       60 months   12.69%        67.79     B        B5  ...   \n",
       "5       36 months    7.90%       156.46     A        A4  ...   \n",
       "6       60 months   15.96%       170.08     C        C5  ...   \n",
       "7       36 months   18.64%       109.43     E        E1  ...   \n",
       "8       60 months   21.28%       152.39     F        F2  ...   \n",
       "9       60 months   12.69%       121.45     B        B5  ...   \n",
       "...           ...      ...          ...   ...       ...  ...   \n",
       "39707   36 months    9.33%       159.77     B        B3  ...   \n",
       "39708   36 months    9.96%       161.25     B        B5  ...   \n",
       "39709   36 months   11.22%       164.23     C        C4  ...   \n",
       "39710   36 months    7.43%       155.38     A        A2  ...   \n",
       "39711   36 months    8.70%       158.30     B        B1  ...   \n",
       "39712   36 months    8.07%        78.42     A        A4  ...   \n",
       "39713   36 months   10.28%       275.38     C        C1  ...   \n",
       "39714   36 months    8.07%       156.84     A        A4  ...   \n",
       "39715   36 months    7.43%       155.38     A        A2  ...   \n",
       "39716   36 months   13.75%       255.43     E        E2  ...   \n",
       "\n",
       "      num_tl_90g_dpd_24m num_tl_op_past_12m pct_tl_nvr_dlq  percent_bc_gt_75  \\\n",
       "0                    NaN                NaN            NaN               NaN   \n",
       "1                    NaN                NaN            NaN               NaN   \n",
       "2                    NaN                NaN            NaN               NaN   \n",
       "3                    NaN                NaN            NaN               NaN   \n",
       "4                    NaN                NaN            NaN               NaN   \n",
       "5                    NaN                NaN            NaN               NaN   \n",
       "6                    NaN                NaN            NaN               NaN   \n",
       "7                    NaN                NaN            NaN               NaN   \n",
       "8                    NaN                NaN            NaN               NaN   \n",
       "9                    NaN                NaN            NaN               NaN   \n",
       "...                  ...                ...            ...               ...   \n",
       "39707                NaN                NaN            NaN               NaN   \n",
       "39708                NaN                NaN            NaN               NaN   \n",
       "39709                NaN                NaN            NaN               NaN   \n",
       "39710                NaN                NaN            NaN               NaN   \n",
       "39711                NaN                NaN            NaN               NaN   \n",
       "39712                NaN                NaN            NaN               NaN   \n",
       "39713                NaN                NaN            NaN               NaN   \n",
       "39714                NaN                NaN            NaN               NaN   \n",
       "39715                NaN                NaN            NaN               NaN   \n",
       "39716                NaN                NaN            NaN               NaN   \n",
       "\n",
       "      pub_rec_bankruptcies tax_liens tot_hi_cred_lim total_bal_ex_mort  \\\n",
       "0                      0.0       0.0             NaN               NaN   \n",
       "1                      0.0       0.0             NaN               NaN   \n",
       "2                      0.0       0.0             NaN               NaN   \n",
       "3                      0.0       0.0             NaN               NaN   \n",
       "4                      0.0       0.0             NaN               NaN   \n",
       "5                      0.0       0.0             NaN               NaN   \n",
       "6                      0.0       0.0             NaN               NaN   \n",
       "7                      0.0       0.0             NaN               NaN   \n",
       "8                      0.0       0.0             NaN               NaN   \n",
       "9                      0.0       0.0             NaN               NaN   \n",
       "...                    ...       ...             ...               ...   \n",
       "39707                  NaN       NaN             NaN               NaN   \n",
       "39708                  NaN       NaN             NaN               NaN   \n",
       "39709                  NaN       NaN             NaN               NaN   \n",
       "39710                  NaN       NaN             NaN               NaN   \n",
       "39711                  NaN       NaN             NaN               NaN   \n",
       "39712                  NaN       NaN             NaN               NaN   \n",
       "39713                  NaN       NaN             NaN               NaN   \n",
       "39714                  NaN       NaN             NaN               NaN   \n",
       "39715                  NaN       NaN             NaN               NaN   \n",
       "39716                  NaN       NaN             NaN               NaN   \n",
       "\n",
       "      total_bc_limit total_il_high_credit_limit  \n",
       "0                NaN                        NaN  \n",
       "1                NaN                        NaN  \n",
       "2                NaN                        NaN  \n",
       "3                NaN                        NaN  \n",
       "4                NaN                        NaN  \n",
       "5                NaN                        NaN  \n",
       "6                NaN                        NaN  \n",
       "7                NaN                        NaN  \n",
       "8                NaN                        NaN  \n",
       "9                NaN                        NaN  \n",
       "...              ...                        ...  \n",
       "39707            NaN                        NaN  \n",
       "39708            NaN                        NaN  \n",
       "39709            NaN                        NaN  \n",
       "39710            NaN                        NaN  \n",
       "39711            NaN                        NaN  \n",
       "39712            NaN                        NaN  \n",
       "39713            NaN                        NaN  \n",
       "39714            NaN                        NaN  \n",
       "39715            NaN                        NaN  \n",
       "39716            NaN                        NaN  \n",
       "\n",
       "[39717 rows x 111 columns]"
      ]
     },
     "execution_count": 3,
     "metadata": {},
     "output_type": "execute_result"
    }
   ],
   "source": [
    "loan = pd.read_csv(\"loan.csv\")\n",
    "loan"
   ]
  },
  {
   "cell_type": "markdown",
   "metadata": {},
   "source": [
    "### Let's inspect our data first"
   ]
  },
  {
   "cell_type": "markdown",
   "metadata": {},
   "source": [
    "> How would you look at the first few rows of the DF?"
   ]
  },
  {
   "cell_type": "code",
   "execution_count": 4,
   "metadata": {},
   "outputs": [
    {
     "data": {
      "text/html": [
       "<div>\n",
       "<style scoped>\n",
       "    .dataframe tbody tr th:only-of-type {\n",
       "        vertical-align: middle;\n",
       "    }\n",
       "\n",
       "    .dataframe tbody tr th {\n",
       "        vertical-align: top;\n",
       "    }\n",
       "\n",
       "    .dataframe thead th {\n",
       "        text-align: right;\n",
       "    }\n",
       "</style>\n",
       "<table border=\"1\" class=\"dataframe\">\n",
       "  <thead>\n",
       "    <tr style=\"text-align: right;\">\n",
       "      <th></th>\n",
       "      <th>id</th>\n",
       "      <th>member_id</th>\n",
       "      <th>loan_amnt</th>\n",
       "      <th>funded_amnt</th>\n",
       "      <th>funded_amnt_inv</th>\n",
       "      <th>term</th>\n",
       "      <th>int_rate</th>\n",
       "      <th>installment</th>\n",
       "      <th>grade</th>\n",
       "      <th>sub_grade</th>\n",
       "      <th>...</th>\n",
       "      <th>num_tl_90g_dpd_24m</th>\n",
       "      <th>num_tl_op_past_12m</th>\n",
       "      <th>pct_tl_nvr_dlq</th>\n",
       "      <th>percent_bc_gt_75</th>\n",
       "      <th>pub_rec_bankruptcies</th>\n",
       "      <th>tax_liens</th>\n",
       "      <th>tot_hi_cred_lim</th>\n",
       "      <th>total_bal_ex_mort</th>\n",
       "      <th>total_bc_limit</th>\n",
       "      <th>total_il_high_credit_limit</th>\n",
       "    </tr>\n",
       "  </thead>\n",
       "  <tbody>\n",
       "    <tr>\n",
       "      <th>0</th>\n",
       "      <td>1077501</td>\n",
       "      <td>1296599</td>\n",
       "      <td>5000</td>\n",
       "      <td>5000</td>\n",
       "      <td>4975.0</td>\n",
       "      <td>36 months</td>\n",
       "      <td>10.65%</td>\n",
       "      <td>162.87</td>\n",
       "      <td>B</td>\n",
       "      <td>B2</td>\n",
       "      <td>...</td>\n",
       "      <td>NaN</td>\n",
       "      <td>NaN</td>\n",
       "      <td>NaN</td>\n",
       "      <td>NaN</td>\n",
       "      <td>0.0</td>\n",
       "      <td>0.0</td>\n",
       "      <td>NaN</td>\n",
       "      <td>NaN</td>\n",
       "      <td>NaN</td>\n",
       "      <td>NaN</td>\n",
       "    </tr>\n",
       "    <tr>\n",
       "      <th>1</th>\n",
       "      <td>1077430</td>\n",
       "      <td>1314167</td>\n",
       "      <td>2500</td>\n",
       "      <td>2500</td>\n",
       "      <td>2500.0</td>\n",
       "      <td>60 months</td>\n",
       "      <td>15.27%</td>\n",
       "      <td>59.83</td>\n",
       "      <td>C</td>\n",
       "      <td>C4</td>\n",
       "      <td>...</td>\n",
       "      <td>NaN</td>\n",
       "      <td>NaN</td>\n",
       "      <td>NaN</td>\n",
       "      <td>NaN</td>\n",
       "      <td>0.0</td>\n",
       "      <td>0.0</td>\n",
       "      <td>NaN</td>\n",
       "      <td>NaN</td>\n",
       "      <td>NaN</td>\n",
       "      <td>NaN</td>\n",
       "    </tr>\n",
       "    <tr>\n",
       "      <th>2</th>\n",
       "      <td>1077175</td>\n",
       "      <td>1313524</td>\n",
       "      <td>2400</td>\n",
       "      <td>2400</td>\n",
       "      <td>2400.0</td>\n",
       "      <td>36 months</td>\n",
       "      <td>15.96%</td>\n",
       "      <td>84.33</td>\n",
       "      <td>C</td>\n",
       "      <td>C5</td>\n",
       "      <td>...</td>\n",
       "      <td>NaN</td>\n",
       "      <td>NaN</td>\n",
       "      <td>NaN</td>\n",
       "      <td>NaN</td>\n",
       "      <td>0.0</td>\n",
       "      <td>0.0</td>\n",
       "      <td>NaN</td>\n",
       "      <td>NaN</td>\n",
       "      <td>NaN</td>\n",
       "      <td>NaN</td>\n",
       "    </tr>\n",
       "    <tr>\n",
       "      <th>3</th>\n",
       "      <td>1076863</td>\n",
       "      <td>1277178</td>\n",
       "      <td>10000</td>\n",
       "      <td>10000</td>\n",
       "      <td>10000.0</td>\n",
       "      <td>36 months</td>\n",
       "      <td>13.49%</td>\n",
       "      <td>339.31</td>\n",
       "      <td>C</td>\n",
       "      <td>C1</td>\n",
       "      <td>...</td>\n",
       "      <td>NaN</td>\n",
       "      <td>NaN</td>\n",
       "      <td>NaN</td>\n",
       "      <td>NaN</td>\n",
       "      <td>0.0</td>\n",
       "      <td>0.0</td>\n",
       "      <td>NaN</td>\n",
       "      <td>NaN</td>\n",
       "      <td>NaN</td>\n",
       "      <td>NaN</td>\n",
       "    </tr>\n",
       "    <tr>\n",
       "      <th>4</th>\n",
       "      <td>1075358</td>\n",
       "      <td>1311748</td>\n",
       "      <td>3000</td>\n",
       "      <td>3000</td>\n",
       "      <td>3000.0</td>\n",
       "      <td>60 months</td>\n",
       "      <td>12.69%</td>\n",
       "      <td>67.79</td>\n",
       "      <td>B</td>\n",
       "      <td>B5</td>\n",
       "      <td>...</td>\n",
       "      <td>NaN</td>\n",
       "      <td>NaN</td>\n",
       "      <td>NaN</td>\n",
       "      <td>NaN</td>\n",
       "      <td>0.0</td>\n",
       "      <td>0.0</td>\n",
       "      <td>NaN</td>\n",
       "      <td>NaN</td>\n",
       "      <td>NaN</td>\n",
       "      <td>NaN</td>\n",
       "    </tr>\n",
       "  </tbody>\n",
       "</table>\n",
       "<p>5 rows × 111 columns</p>\n",
       "</div>"
      ],
      "text/plain": [
       "        id  member_id  loan_amnt  funded_amnt  funded_amnt_inv        term  \\\n",
       "0  1077501    1296599       5000         5000           4975.0   36 months   \n",
       "1  1077430    1314167       2500         2500           2500.0   60 months   \n",
       "2  1077175    1313524       2400         2400           2400.0   36 months   \n",
       "3  1076863    1277178      10000        10000          10000.0   36 months   \n",
       "4  1075358    1311748       3000         3000           3000.0   60 months   \n",
       "\n",
       "  int_rate  installment grade sub_grade  ... num_tl_90g_dpd_24m  \\\n",
       "0   10.65%       162.87     B        B2  ...                NaN   \n",
       "1   15.27%        59.83     C        C4  ...                NaN   \n",
       "2   15.96%        84.33     C        C5  ...                NaN   \n",
       "3   13.49%       339.31     C        C1  ...                NaN   \n",
       "4   12.69%        67.79     B        B5  ...                NaN   \n",
       "\n",
       "  num_tl_op_past_12m pct_tl_nvr_dlq  percent_bc_gt_75 pub_rec_bankruptcies  \\\n",
       "0                NaN            NaN               NaN                  0.0   \n",
       "1                NaN            NaN               NaN                  0.0   \n",
       "2                NaN            NaN               NaN                  0.0   \n",
       "3                NaN            NaN               NaN                  0.0   \n",
       "4                NaN            NaN               NaN                  0.0   \n",
       "\n",
       "  tax_liens tot_hi_cred_lim total_bal_ex_mort total_bc_limit  \\\n",
       "0       0.0             NaN               NaN            NaN   \n",
       "1       0.0             NaN               NaN            NaN   \n",
       "2       0.0             NaN               NaN            NaN   \n",
       "3       0.0             NaN               NaN            NaN   \n",
       "4       0.0             NaN               NaN            NaN   \n",
       "\n",
       "  total_il_high_credit_limit  \n",
       "0                        NaN  \n",
       "1                        NaN  \n",
       "2                        NaN  \n",
       "3                        NaN  \n",
       "4                        NaN  \n",
       "\n",
       "[5 rows x 111 columns]"
      ]
     },
     "execution_count": 4,
     "metadata": {},
     "output_type": "execute_result"
    }
   ],
   "source": [
    "loan.head()"
   ]
  },
  {
   "cell_type": "markdown",
   "metadata": {},
   "source": [
    "> How would you look at all the column names?"
   ]
  },
  {
   "cell_type": "code",
   "execution_count": 5,
   "metadata": {},
   "outputs": [
    {
     "data": {
      "text/plain": [
       "Index(['id', 'member_id', 'loan_amnt', 'funded_amnt', 'funded_amnt_inv',\n",
       "       'term', 'int_rate', 'installment', 'grade', 'sub_grade',\n",
       "       ...\n",
       "       'num_tl_90g_dpd_24m', 'num_tl_op_past_12m', 'pct_tl_nvr_dlq',\n",
       "       'percent_bc_gt_75', 'pub_rec_bankruptcies', 'tax_liens',\n",
       "       'tot_hi_cred_lim', 'total_bal_ex_mort', 'total_bc_limit',\n",
       "       'total_il_high_credit_limit'],\n",
       "      dtype='object', length=111)"
      ]
     },
     "execution_count": 5,
     "metadata": {},
     "output_type": "execute_result"
    }
   ],
   "source": [
    "loan.columns"
   ]
  },
  {
   "cell_type": "markdown",
   "metadata": {},
   "source": [
    "### Data Wrangling"
   ]
  },
  {
   "cell_type": "markdown",
   "metadata": {},
   "source": [
    "> How would you check the number of missing values in each column"
   ]
  },
  {
   "cell_type": "code",
   "execution_count": 6,
   "metadata": {},
   "outputs": [
    {
     "data": {
      "text/plain": [
       "id                                0\n",
       "member_id                         0\n",
       "loan_amnt                         0\n",
       "funded_amnt                       0\n",
       "funded_amnt_inv                   0\n",
       "term                              0\n",
       "int_rate                          0\n",
       "installment                       0\n",
       "grade                             0\n",
       "sub_grade                         0\n",
       "                              ...  \n",
       "num_tl_90g_dpd_24m            39717\n",
       "num_tl_op_past_12m            39717\n",
       "pct_tl_nvr_dlq                39717\n",
       "percent_bc_gt_75              39717\n",
       "pub_rec_bankruptcies            697\n",
       "tax_liens                        39\n",
       "tot_hi_cred_lim               39717\n",
       "total_bal_ex_mort             39717\n",
       "total_bc_limit                39717\n",
       "total_il_high_credit_limit    39717\n",
       "Length: 111, dtype: int64"
      ]
     },
     "execution_count": 6,
     "metadata": {},
     "output_type": "execute_result"
    }
   ],
   "source": [
    "loan.isnull().sum()"
   ]
  },
  {
   "cell_type": "markdown",
   "metadata": {},
   "source": [
    "> There are columns have a large number of missing values \n",
    "\n",
    "> Let's clean them first."
   ]
  },
  {
   "cell_type": "markdown",
   "metadata": {},
   "source": [
    "> How would you find the percentage of missing values in each column?"
   ]
  },
  {
   "cell_type": "code",
   "execution_count": 7,
   "metadata": {},
   "outputs": [
    {
     "data": {
      "text/plain": [
       "id                              0.0\n",
       "member_id                       0.0\n",
       "loan_amnt                       0.0\n",
       "funded_amnt                     0.0\n",
       "funded_amnt_inv                 0.0\n",
       "term                            0.0\n",
       "int_rate                        0.0\n",
       "installment                     0.0\n",
       "grade                           0.0\n",
       "sub_grade                       0.0\n",
       "                              ...  \n",
       "num_tl_90g_dpd_24m            100.0\n",
       "num_tl_op_past_12m            100.0\n",
       "pct_tl_nvr_dlq                100.0\n",
       "percent_bc_gt_75              100.0\n",
       "pub_rec_bankruptcies            2.0\n",
       "tax_liens                       0.0\n",
       "tot_hi_cred_lim               100.0\n",
       "total_bal_ex_mort             100.0\n",
       "total_bc_limit                100.0\n",
       "total_il_high_credit_limit    100.0\n",
       "Length: 111, dtype: float64"
      ]
     },
     "execution_count": 7,
     "metadata": {},
     "output_type": "execute_result"
    }
   ],
   "source": [
    "round(loan.isnull().sum()/len(loan.index), 2)*100"
   ]
  },
  {
   "cell_type": "markdown",
   "metadata": {},
   "source": [
    "> How would you remove the columns having more than 90% missing values?"
   ]
  },
  {
   "cell_type": "code",
   "execution_count": 8,
   "metadata": {},
   "outputs": [
    {
     "data": {
      "text/plain": [
       "Index(['mths_since_last_record', 'next_pymnt_d', 'mths_since_last_major_derog',\n",
       "       'annual_inc_joint', 'dti_joint', 'verification_status_joint',\n",
       "       'tot_coll_amt', 'tot_cur_bal', 'open_acc_6m', 'open_il_6m',\n",
       "       'open_il_12m', 'open_il_24m', 'mths_since_rcnt_il', 'total_bal_il',\n",
       "       'il_util', 'open_rv_12m', 'open_rv_24m', 'max_bal_bc', 'all_util',\n",
       "       'total_rev_hi_lim', 'inq_fi', 'total_cu_tl', 'inq_last_12m',\n",
       "       'acc_open_past_24mths', 'avg_cur_bal', 'bc_open_to_buy', 'bc_util',\n",
       "       'mo_sin_old_il_acct', 'mo_sin_old_rev_tl_op', 'mo_sin_rcnt_rev_tl_op',\n",
       "       'mo_sin_rcnt_tl', 'mort_acc', 'mths_since_recent_bc',\n",
       "       'mths_since_recent_bc_dlq', 'mths_since_recent_inq',\n",
       "       'mths_since_recent_revol_delinq', 'num_accts_ever_120_pd',\n",
       "       'num_actv_bc_tl', 'num_actv_rev_tl', 'num_bc_sats', 'num_bc_tl',\n",
       "       'num_il_tl', 'num_op_rev_tl', 'num_rev_accts', 'num_rev_tl_bal_gt_0',\n",
       "       'num_sats', 'num_tl_120dpd_2m', 'num_tl_30dpd', 'num_tl_90g_dpd_24m',\n",
       "       'num_tl_op_past_12m', 'pct_tl_nvr_dlq', 'percent_bc_gt_75',\n",
       "       'tot_hi_cred_lim', 'total_bal_ex_mort', 'total_bc_limit',\n",
       "       'total_il_high_credit_limit'],\n",
       "      dtype='object')"
      ]
     },
     "execution_count": 8,
     "metadata": {},
     "output_type": "execute_result"
    }
   ],
   "source": [
    "missing_columns = loan.columns[100*(loan.isnull().sum()/len(loan.index)) > 90]\n",
    "missing_columns"
   ]
  },
  {
   "cell_type": "code",
   "execution_count": 9,
   "metadata": {},
   "outputs": [
    {
     "data": {
      "text/plain": [
       "(39717, 55)"
      ]
     },
     "execution_count": 9,
     "metadata": {},
     "output_type": "execute_result"
    }
   ],
   "source": [
    "loan = loan.drop(missing_columns, axis=1)\n",
    "loan.shape"
   ]
  },
  {
   "cell_type": "markdown",
   "metadata": {},
   "source": [
    "> Let's check the number of missing values again."
   ]
  },
  {
   "cell_type": "code",
   "execution_count": 10,
   "metadata": {},
   "outputs": [
    {
     "data": {
      "text/plain": [
       "mths_since_last_delinq        64.662487\n",
       "desc                          32.580507\n",
       "emp_title                      6.191303\n",
       "emp_length                     2.706650\n",
       "pub_rec_bankruptcies           1.754916\n",
       "last_pymnt_d                   0.178765\n",
       "chargeoff_within_12_mths       0.140998\n",
       "collections_12_mths_ex_med     0.140998\n",
       "revol_util                     0.125891\n",
       "tax_liens                      0.098195\n",
       "                                ...    \n",
       "total_pymnt                    0.000000\n",
       "out_prncp_inv                  0.000000\n",
       "out_prncp                      0.000000\n",
       "initial_list_status            0.000000\n",
       "total_acc                      0.000000\n",
       "revol_bal                      0.000000\n",
       "pub_rec                        0.000000\n",
       "open_acc                       0.000000\n",
       "earliest_cr_line               0.000000\n",
       "id                             0.000000\n",
       "Length: 55, dtype: float64"
      ]
     },
     "execution_count": 10,
     "metadata": {},
     "output_type": "execute_result"
    }
   ],
   "source": [
    "100*(loan.isnull().sum()/len(loan.index)).sort_values(ascending = False)"
   ]
  },
  {
   "cell_type": "markdown",
   "metadata": {},
   "source": [
    "> How would you remove columns having more than 30% of missing values?"
   ]
  },
  {
   "cell_type": "code",
   "execution_count": 11,
   "metadata": {},
   "outputs": [],
   "source": [
    "loan = loan.drop([\"desc\", \"mths_since_last_delinq\"], axis=1)"
   ]
  },
  {
   "cell_type": "markdown",
   "metadata": {},
   "source": [
    "> Let's check number of missing values again"
   ]
  },
  {
   "cell_type": "code",
   "execution_count": 12,
   "metadata": {},
   "outputs": [
    {
     "data": {
      "text/plain": [
       "id                            0.000000\n",
       "member_id                     0.000000\n",
       "loan_amnt                     0.000000\n",
       "funded_amnt                   0.000000\n",
       "funded_amnt_inv               0.000000\n",
       "term                          0.000000\n",
       "int_rate                      0.000000\n",
       "installment                   0.000000\n",
       "grade                         0.000000\n",
       "sub_grade                     0.000000\n",
       "                                ...   \n",
       "last_pymnt_amnt               0.000000\n",
       "last_credit_pull_d            0.005036\n",
       "collections_12_mths_ex_med    0.140998\n",
       "policy_code                   0.000000\n",
       "application_type              0.000000\n",
       "acc_now_delinq                0.000000\n",
       "chargeoff_within_12_mths      0.140998\n",
       "delinq_amnt                   0.000000\n",
       "pub_rec_bankruptcies          1.754916\n",
       "tax_liens                     0.098195\n",
       "Length: 53, dtype: float64"
      ]
     },
     "execution_count": 12,
     "metadata": {},
     "output_type": "execute_result"
    }
   ],
   "source": [
    "100*(loan.isnull().sum()/len(loan.index))"
   ]
  },
  {
   "cell_type": "markdown",
   "metadata": {},
   "source": [
    "> How would you check missing values rows-wise, by the way?"
   ]
  },
  {
   "cell_type": "code",
   "execution_count": 13,
   "metadata": {},
   "outputs": [
    {
     "data": {
      "text/plain": [
       "0        1\n",
       "1        0\n",
       "2        1\n",
       "3        0\n",
       "4        0\n",
       "5        0\n",
       "6        0\n",
       "7        0\n",
       "8        1\n",
       "9        0\n",
       "        ..\n",
       "39707    4\n",
       "39708    4\n",
       "39709    4\n",
       "39710    4\n",
       "39711    4\n",
       "39712    4\n",
       "39713    4\n",
       "39714    5\n",
       "39715    5\n",
       "39716    4\n",
       "Length: 39717, dtype: int64"
      ]
     },
     "execution_count": 13,
     "metadata": {},
     "output_type": "execute_result"
    }
   ],
   "source": [
    "loan.isnull().sum(axis=1)"
   ]
  },
  {
   "cell_type": "markdown",
   "metadata": {},
   "source": [
    "> How would you check whether some rows have more than 5 missing values"
   ]
  },
  {
   "cell_type": "code",
   "execution_count": 14,
   "metadata": {},
   "outputs": [
    {
     "data": {
      "text/plain": [
       "0"
      ]
     },
     "execution_count": 14,
     "metadata": {},
     "output_type": "execute_result"
    }
   ],
   "source": [
    "len(loan[loan.isnull().sum(axis=1) > 5].index)"
   ]
  },
  {
   "cell_type": "markdown",
   "metadata": {},
   "source": [
    "> The dataset is cleaned now; let's check whether all the columns are in the correct format or not."
   ]
  },
  {
   "cell_type": "code",
   "execution_count": 15,
   "metadata": {},
   "outputs": [
    {
     "name": "stdout",
     "output_type": "stream",
     "text": [
      "<class 'pandas.core.frame.DataFrame'>\n",
      "RangeIndex: 39717 entries, 0 to 39716\n",
      "Data columns (total 53 columns):\n",
      " #   Column                      Non-Null Count  Dtype  \n",
      "---  ------                      --------------  -----  \n",
      " 0   id                          39717 non-null  int64  \n",
      " 1   member_id                   39717 non-null  int64  \n",
      " 2   loan_amnt                   39717 non-null  int64  \n",
      " 3   funded_amnt                 39717 non-null  int64  \n",
      " 4   funded_amnt_inv             39717 non-null  float64\n",
      " 5   term                        39717 non-null  object \n",
      " 6   int_rate                    39717 non-null  object \n",
      " 7   installment                 39717 non-null  float64\n",
      " 8   grade                       39717 non-null  object \n",
      " 9   sub_grade                   39717 non-null  object \n",
      " 10  emp_title                   37258 non-null  object \n",
      " 11  emp_length                  38642 non-null  object \n",
      " 12  home_ownership              39717 non-null  object \n",
      " 13  annual_inc                  39717 non-null  float64\n",
      " 14  verification_status         39717 non-null  object \n",
      " 15  issue_d                     39717 non-null  object \n",
      " 16  loan_status                 39717 non-null  object \n",
      " 17  pymnt_plan                  39717 non-null  object \n",
      " 18  url                         39717 non-null  object \n",
      " 19  purpose                     39717 non-null  object \n",
      " 20  title                       39706 non-null  object \n",
      " 21  zip_code                    39717 non-null  object \n",
      " 22  addr_state                  39717 non-null  object \n",
      " 23  dti                         39717 non-null  float64\n",
      " 24  delinq_2yrs                 39717 non-null  int64  \n",
      " 25  earliest_cr_line            39717 non-null  object \n",
      " 26  inq_last_6mths              39717 non-null  int64  \n",
      " 27  open_acc                    39717 non-null  int64  \n",
      " 28  pub_rec                     39717 non-null  int64  \n",
      " 29  revol_bal                   39717 non-null  int64  \n",
      " 30  revol_util                  39667 non-null  object \n",
      " 31  total_acc                   39717 non-null  int64  \n",
      " 32  initial_list_status         39717 non-null  object \n",
      " 33  out_prncp                   39717 non-null  float64\n",
      " 34  out_prncp_inv               39717 non-null  float64\n",
      " 35  total_pymnt                 39717 non-null  float64\n",
      " 36  total_pymnt_inv             39717 non-null  float64\n",
      " 37  total_rec_prncp             39717 non-null  float64\n",
      " 38  total_rec_int               39717 non-null  float64\n",
      " 39  total_rec_late_fee          39717 non-null  float64\n",
      " 40  recoveries                  39717 non-null  float64\n",
      " 41  collection_recovery_fee     39717 non-null  float64\n",
      " 42  last_pymnt_d                39646 non-null  object \n",
      " 43  last_pymnt_amnt             39717 non-null  float64\n",
      " 44  last_credit_pull_d          39715 non-null  object \n",
      " 45  collections_12_mths_ex_med  39661 non-null  float64\n",
      " 46  policy_code                 39717 non-null  int64  \n",
      " 47  application_type            39717 non-null  object \n",
      " 48  acc_now_delinq              39717 non-null  int64  \n",
      " 49  chargeoff_within_12_mths    39661 non-null  float64\n",
      " 50  delinq_amnt                 39717 non-null  int64  \n",
      " 51  pub_rec_bankruptcies        39020 non-null  float64\n",
      " 52  tax_liens                   39678 non-null  float64\n",
      "dtypes: float64(18), int64(13), object(22)\n",
      "memory usage: 16.1+ MB\n"
     ]
    }
   ],
   "source": [
    "loan.info()"
   ]
  },
  {
   "cell_type": "markdown",
   "metadata": {},
   "source": [
    "> The column `int_rate` is character type, let's convert it to float."
   ]
  },
  {
   "cell_type": "markdown",
   "metadata": {},
   "source": [
    "> How would you use `lambda` to convert the data type?"
   ]
  },
  {
   "cell_type": "code",
   "execution_count": 16,
   "metadata": {},
   "outputs": [],
   "source": [
    "loan[\"int_rate\"] = loan[\"int_rate\"].apply(lambda x: pd.to_numeric(x.split(\"%\")[0]))"
   ]
  },
  {
   "cell_type": "markdown",
   "metadata": {},
   "source": [
    "> Let's check the data types again."
   ]
  },
  {
   "cell_type": "code",
   "execution_count": 17,
   "metadata": {},
   "outputs": [
    {
     "name": "stdout",
     "output_type": "stream",
     "text": [
      "<class 'pandas.core.frame.DataFrame'>\n",
      "RangeIndex: 39717 entries, 0 to 39716\n",
      "Data columns (total 53 columns):\n",
      " #   Column                      Non-Null Count  Dtype  \n",
      "---  ------                      --------------  -----  \n",
      " 0   id                          39717 non-null  int64  \n",
      " 1   member_id                   39717 non-null  int64  \n",
      " 2   loan_amnt                   39717 non-null  int64  \n",
      " 3   funded_amnt                 39717 non-null  int64  \n",
      " 4   funded_amnt_inv             39717 non-null  float64\n",
      " 5   term                        39717 non-null  object \n",
      " 6   int_rate                    39717 non-null  float64\n",
      " 7   installment                 39717 non-null  float64\n",
      " 8   grade                       39717 non-null  object \n",
      " 9   sub_grade                   39717 non-null  object \n",
      " 10  emp_title                   37258 non-null  object \n",
      " 11  emp_length                  38642 non-null  object \n",
      " 12  home_ownership              39717 non-null  object \n",
      " 13  annual_inc                  39717 non-null  float64\n",
      " 14  verification_status         39717 non-null  object \n",
      " 15  issue_d                     39717 non-null  object \n",
      " 16  loan_status                 39717 non-null  object \n",
      " 17  pymnt_plan                  39717 non-null  object \n",
      " 18  url                         39717 non-null  object \n",
      " 19  purpose                     39717 non-null  object \n",
      " 20  title                       39706 non-null  object \n",
      " 21  zip_code                    39717 non-null  object \n",
      " 22  addr_state                  39717 non-null  object \n",
      " 23  dti                         39717 non-null  float64\n",
      " 24  delinq_2yrs                 39717 non-null  int64  \n",
      " 25  earliest_cr_line            39717 non-null  object \n",
      " 26  inq_last_6mths              39717 non-null  int64  \n",
      " 27  open_acc                    39717 non-null  int64  \n",
      " 28  pub_rec                     39717 non-null  int64  \n",
      " 29  revol_bal                   39717 non-null  int64  \n",
      " 30  revol_util                  39667 non-null  object \n",
      " 31  total_acc                   39717 non-null  int64  \n",
      " 32  initial_list_status         39717 non-null  object \n",
      " 33  out_prncp                   39717 non-null  float64\n",
      " 34  out_prncp_inv               39717 non-null  float64\n",
      " 35  total_pymnt                 39717 non-null  float64\n",
      " 36  total_pymnt_inv             39717 non-null  float64\n",
      " 37  total_rec_prncp             39717 non-null  float64\n",
      " 38  total_rec_int               39717 non-null  float64\n",
      " 39  total_rec_late_fee          39717 non-null  float64\n",
      " 40  recoveries                  39717 non-null  float64\n",
      " 41  collection_recovery_fee     39717 non-null  float64\n",
      " 42  last_pymnt_d                39646 non-null  object \n",
      " 43  last_pymnt_amnt             39717 non-null  float64\n",
      " 44  last_credit_pull_d          39715 non-null  object \n",
      " 45  collections_12_mths_ex_med  39661 non-null  float64\n",
      " 46  policy_code                 39717 non-null  int64  \n",
      " 47  application_type            39717 non-null  object \n",
      " 48  acc_now_delinq              39717 non-null  int64  \n",
      " 49  chargeoff_within_12_mths    39661 non-null  float64\n",
      " 50  delinq_amnt                 39717 non-null  int64  \n",
      " 51  pub_rec_bankruptcies        39020 non-null  float64\n",
      " 52  tax_liens                   39678 non-null  float64\n",
      "dtypes: float64(19), int64(13), object(21)\n",
      "memory usage: 16.1+ MB\n"
     ]
    }
   ],
   "source": [
    "loan.info()"
   ]
  },
  {
   "cell_type": "markdown",
   "metadata": {},
   "source": [
    "> Lets extract the numeric part from the variable employment length.\n",
    "\n",
    "> First, let's drop the missing values from the column (otherwise the regex code below throws error) using regular expression to extract numeric values from the string convert to numeric"
   ]
  },
  {
   "cell_type": "code",
   "execution_count": 18,
   "metadata": {},
   "outputs": [],
   "source": [
    "import re"
   ]
  },
  {
   "cell_type": "code",
   "execution_count": 19,
   "metadata": {},
   "outputs": [],
   "source": [
    "loan = loan[~loan[\"emp_length\"].isnull()]\n",
    "loan[\"emp_length\"] = loan[\"emp_length\"].apply(lambda x: re.findall(\"\\d+\", str(x))[0])\n",
    "loan[\"emp_length\"] = loan[\"emp_length\"].apply(lambda x: pd.to_numeric(x))"
   ]
  },
  {
   "cell_type": "markdown",
   "metadata": {},
   "source": [
    "> Let's take a look at type of the columns again"
   ]
  },
  {
   "cell_type": "code",
   "execution_count": 20,
   "metadata": {},
   "outputs": [
    {
     "name": "stdout",
     "output_type": "stream",
     "text": [
      "<class 'pandas.core.frame.DataFrame'>\n",
      "Int64Index: 38642 entries, 0 to 39716\n",
      "Data columns (total 53 columns):\n",
      " #   Column                      Non-Null Count  Dtype  \n",
      "---  ------                      --------------  -----  \n",
      " 0   id                          38642 non-null  int64  \n",
      " 1   member_id                   38642 non-null  int64  \n",
      " 2   loan_amnt                   38642 non-null  int64  \n",
      " 3   funded_amnt                 38642 non-null  int64  \n",
      " 4   funded_amnt_inv             38642 non-null  float64\n",
      " 5   term                        38642 non-null  object \n",
      " 6   int_rate                    38642 non-null  float64\n",
      " 7   installment                 38642 non-null  float64\n",
      " 8   grade                       38642 non-null  object \n",
      " 9   sub_grade                   38642 non-null  object \n",
      " 10  emp_title                   37202 non-null  object \n",
      " 11  emp_length                  38642 non-null  int64  \n",
      " 12  home_ownership              38642 non-null  object \n",
      " 13  annual_inc                  38642 non-null  float64\n",
      " 14  verification_status         38642 non-null  object \n",
      " 15  issue_d                     38642 non-null  object \n",
      " 16  loan_status                 38642 non-null  object \n",
      " 17  pymnt_plan                  38642 non-null  object \n",
      " 18  url                         38642 non-null  object \n",
      " 19  purpose                     38642 non-null  object \n",
      " 20  title                       38632 non-null  object \n",
      " 21  zip_code                    38642 non-null  object \n",
      " 22  addr_state                  38642 non-null  object \n",
      " 23  dti                         38642 non-null  float64\n",
      " 24  delinq_2yrs                 38642 non-null  int64  \n",
      " 25  earliest_cr_line            38642 non-null  object \n",
      " 26  inq_last_6mths              38642 non-null  int64  \n",
      " 27  open_acc                    38642 non-null  int64  \n",
      " 28  pub_rec                     38642 non-null  int64  \n",
      " 29  revol_bal                   38642 non-null  int64  \n",
      " 30  revol_util                  38595 non-null  object \n",
      " 31  total_acc                   38642 non-null  int64  \n",
      " 32  initial_list_status         38642 non-null  object \n",
      " 33  out_prncp                   38642 non-null  float64\n",
      " 34  out_prncp_inv               38642 non-null  float64\n",
      " 35  total_pymnt                 38642 non-null  float64\n",
      " 36  total_pymnt_inv             38642 non-null  float64\n",
      " 37  total_rec_prncp             38642 non-null  float64\n",
      " 38  total_rec_int               38642 non-null  float64\n",
      " 39  total_rec_late_fee          38642 non-null  float64\n",
      " 40  recoveries                  38642 non-null  float64\n",
      " 41  collection_recovery_fee     38642 non-null  float64\n",
      " 42  last_pymnt_d                38576 non-null  object \n",
      " 43  last_pymnt_amnt             38642 non-null  float64\n",
      " 44  last_credit_pull_d          38640 non-null  object \n",
      " 45  collections_12_mths_ex_med  38586 non-null  float64\n",
      " 46  policy_code                 38642 non-null  int64  \n",
      " 47  application_type            38642 non-null  object \n",
      " 48  acc_now_delinq              38642 non-null  int64  \n",
      " 49  chargeoff_within_12_mths    38586 non-null  float64\n",
      " 50  delinq_amnt                 38642 non-null  int64  \n",
      " 51  pub_rec_bankruptcies        37945 non-null  float64\n",
      " 52  tax_liens                   38603 non-null  float64\n",
      "dtypes: float64(19), int64(14), object(20)\n",
      "memory usage: 15.9+ MB\n"
     ]
    }
   ],
   "source": [
    "loan.info()"
   ]
  },
  {
   "cell_type": "markdown",
   "metadata": {},
   "source": [
    "### Exploratory Data Analysis (EDA)"
   ]
  },
  {
   "cell_type": "markdown",
   "metadata": {},
   "source": [
    "> There are some variables not available at the time of loan application, and thus they cannot be used as predictors for credit approval. "
   ]
  },
  {
   "cell_type": "code",
   "execution_count": 21,
   "metadata": {},
   "outputs": [
    {
     "data": {
      "text/plain": [
       "['delinq_2yrs',\n",
       " 'earliest_cr_line',\n",
       " 'inq_last_6mths',\n",
       " 'open_acc',\n",
       " 'pub_rec',\n",
       " 'revol_bal',\n",
       " 'revol_util',\n",
       " 'total_acc',\n",
       " 'out_prncp',\n",
       " 'out_prncp_inv',\n",
       " 'total_pymnt',\n",
       " 'total_pymnt_inv',\n",
       " 'total_rec_prncp',\n",
       " 'total_rec_int',\n",
       " 'total_rec_late_fee',\n",
       " 'recoveries',\n",
       " 'collection_recovery_fee',\n",
       " 'last_pymnt_d',\n",
       " 'last_pymnt_amnt',\n",
       " 'last_credit_pull_d',\n",
       " 'application_type']"
      ]
     },
     "execution_count": 21,
     "metadata": {},
     "output_type": "execute_result"
    }
   ],
   "source": [
    "variables_to_remove = [\n",
    "  \"delinq_2yrs\",\n",
    "  \"earliest_cr_line\",\n",
    "  \"inq_last_6mths\",\n",
    "  \"open_acc\",\n",
    "  \"pub_rec\",\n",
    "  \"revol_bal\",\n",
    "  \"revol_util\",\n",
    "  \"total_acc\",\n",
    "  \"out_prncp\",\n",
    "  \"out_prncp_inv\",\n",
    "  \"total_pymnt\",\n",
    "  \"total_pymnt_inv\",\n",
    "  \"total_rec_prncp\",\n",
    "  \"total_rec_int\",\n",
    "  \"total_rec_late_fee\",\n",
    "  \"recoveries\",\n",
    "  \"collection_recovery_fee\",\n",
    "  \"last_pymnt_d\",\n",
    "  \"last_pymnt_amnt\",\n",
    "  \"last_credit_pull_d\",\n",
    "  \"application_type\"]\n",
    "\n",
    "variables_to_remove"
   ]
  },
  {
   "cell_type": "markdown",
   "metadata": {},
   "source": [
    "> Let's remove the set of variables above from the dataset."
   ]
  },
  {
   "cell_type": "code",
   "execution_count": 22,
   "metadata": {},
   "outputs": [
    {
     "name": "stdout",
     "output_type": "stream",
     "text": [
      "<class 'pandas.core.frame.DataFrame'>\n",
      "Int64Index: 38642 entries, 0 to 39716\n",
      "Data columns (total 32 columns):\n",
      " #   Column                      Non-Null Count  Dtype  \n",
      "---  ------                      --------------  -----  \n",
      " 0   id                          38642 non-null  int64  \n",
      " 1   member_id                   38642 non-null  int64  \n",
      " 2   loan_amnt                   38642 non-null  int64  \n",
      " 3   funded_amnt                 38642 non-null  int64  \n",
      " 4   funded_amnt_inv             38642 non-null  float64\n",
      " 5   term                        38642 non-null  object \n",
      " 6   int_rate                    38642 non-null  float64\n",
      " 7   installment                 38642 non-null  float64\n",
      " 8   grade                       38642 non-null  object \n",
      " 9   sub_grade                   38642 non-null  object \n",
      " 10  emp_title                   37202 non-null  object \n",
      " 11  emp_length                  38642 non-null  int64  \n",
      " 12  home_ownership              38642 non-null  object \n",
      " 13  annual_inc                  38642 non-null  float64\n",
      " 14  verification_status         38642 non-null  object \n",
      " 15  issue_d                     38642 non-null  object \n",
      " 16  loan_status                 38642 non-null  object \n",
      " 17  pymnt_plan                  38642 non-null  object \n",
      " 18  url                         38642 non-null  object \n",
      " 19  purpose                     38642 non-null  object \n",
      " 20  title                       38632 non-null  object \n",
      " 21  zip_code                    38642 non-null  object \n",
      " 22  addr_state                  38642 non-null  object \n",
      " 23  dti                         38642 non-null  float64\n",
      " 24  initial_list_status         38642 non-null  object \n",
      " 25  collections_12_mths_ex_med  38586 non-null  float64\n",
      " 26  policy_code                 38642 non-null  int64  \n",
      " 27  acc_now_delinq              38642 non-null  int64  \n",
      " 28  chargeoff_within_12_mths    38586 non-null  float64\n",
      " 29  delinq_amnt                 38642 non-null  int64  \n",
      " 30  pub_rec_bankruptcies        37945 non-null  float64\n",
      " 31  tax_liens                   38603 non-null  float64\n",
      "dtypes: float64(9), int64(8), object(15)\n",
      "memory usage: 9.7+ MB\n"
     ]
    }
   ],
   "source": [
    "df = loan.drop(variables_to_remove, axis=1)\n",
    "df.info()"
   ]
  },
  {
   "cell_type": "markdown",
   "metadata": {},
   "source": [
    "-  Also, we won't use the variables zip code, address, state etc. \n",
    "-  The variable `title` is derived from the variable `purpose` thus let get rid of all these variables as well"
   ]
  },
  {
   "cell_type": "code",
   "execution_count": 23,
   "metadata": {},
   "outputs": [],
   "source": [
    "df = df.drop([\"title\", \"url\", \"zip_code\", \"addr_state\"], axis=1)"
   ]
  },
  {
   "cell_type": "markdown",
   "metadata": {},
   "source": [
    "> Then, let's have a look at the target variable--`loan_status`. \n",
    "\n",
    "> We need to re-label the values to a `binary form`: namely, `0` or `1`, \n",
    "\n",
    "- 1 indicating that the person has defaulted and \n",
    "- 0 otherwise."
   ]
  },
  {
   "cell_type": "code",
   "execution_count": 24,
   "metadata": {},
   "outputs": [
    {
     "data": {
      "text/plain": [
       "Fully Paid     32145\n",
       "Charged Off     5399\n",
       "Current         1098\n",
       "Name: loan_status, dtype: int64"
      ]
     },
     "execution_count": 24,
     "metadata": {},
     "output_type": "execute_result"
    }
   ],
   "source": [
    "df[\"loan_status\"] = df[\"loan_status\"].astype(\"category\")\n",
    "df[\"loan_status\"].value_counts()"
   ]
  },
  {
   "cell_type": "markdown",
   "metadata": {},
   "source": [
    "> You should be able to see that fully paid comprises most of the loans. \n",
    "\n",
    "> The ones marked `current` are neither fully paid not defaulted, so let's get rid of the current loans. \n",
    "\n",
    "> Also, let's tag the other two values as 0 or 1."
   ]
  },
  {
   "cell_type": "markdown",
   "metadata": {},
   "source": [
    "> Using `lambda`, let's filter only fully paid or charged-off"
   ]
  },
  {
   "cell_type": "code",
   "execution_count": 25,
   "metadata": {},
   "outputs": [],
   "source": [
    "df = df[df[\"loan_status\"] != \"Current\"]\n",
    "df[\"loan_status\"] = df[\"loan_status\"].apply(lambda x: 0 if x==\"Fully Paid\" else 1)"
   ]
  },
  {
   "cell_type": "markdown",
   "metadata": {},
   "source": [
    "> Let's convert loan_status to integer data type (again, use lambda)."
   ]
  },
  {
   "cell_type": "code",
   "execution_count": 26,
   "metadata": {},
   "outputs": [],
   "source": [
    "df[\"loan_status\"] = df[\"loan_status\"].apply(lambda x: pd.to_numeric(x))"
   ]
  },
  {
   "cell_type": "markdown",
   "metadata": {},
   "source": [
    "> Let's take a look at the data points under the loan_status category."
   ]
  },
  {
   "cell_type": "code",
   "execution_count": 27,
   "metadata": {},
   "outputs": [
    {
     "data": {
      "text/plain": [
       "0    32145\n",
       "1     5399\n",
       "Name: loan_status, dtype: int64"
      ]
     },
     "execution_count": 27,
     "metadata": {},
     "output_type": "execute_result"
    }
   ],
   "source": [
    "df[\"loan_status\"].value_counts()"
   ]
  },
  {
   "cell_type": "markdown",
   "metadata": {},
   "source": [
    "### A Simple Univariate Analysis"
   ]
  },
  {
   "cell_type": "markdown",
   "metadata": {},
   "source": [
    "> First, let's look at the overall default rate."
   ]
  },
  {
   "cell_type": "markdown",
   "metadata": {},
   "source": [
    "> How would you calculate default rate? Please use `numpy` module."
   ]
  },
  {
   "cell_type": "code",
   "execution_count": 28,
   "metadata": {},
   "outputs": [
    {
     "data": {
      "text/plain": [
       "0.14"
      ]
     },
     "execution_count": 28,
     "metadata": {},
     "output_type": "execute_result"
    }
   ],
   "source": [
    "round(np.mean(df[\"loan_status\"]), 2)"
   ]
  },
  {
   "cell_type": "markdown",
   "metadata": {},
   "source": [
    "> The overall default rate is about `00%`.  "
   ]
  },
  {
   "cell_type": "markdown",
   "metadata": {},
   "source": [
    "> Let's visualize default rates across grade of the loan."
   ]
  },
  {
   "cell_type": "code",
   "execution_count": 29,
   "metadata": {},
   "outputs": [
    {
     "data": {
      "image/png": "[encoded data removed]",
      "text/plain": [
       "<Figure size 432x288 with 1 Axes>"
      ]
     },
     "metadata": {
      "needs_background": "light"
     },
     "output_type": "display_data"
    }
   ],
   "source": [
    "sns.barplot(x=\"grade\", y=\"loan_status\", data=df)\n",
    "plt.show()"
   ]
  },
  {
   "cell_type": "markdown",
   "metadata": {},
   "source": [
    "#### Let's create a function to plot `loan_status` across `any categorical variable`"
   ]
  },
  {
   "cell_type": "code",
   "execution_count": 30,
   "metadata": {},
   "outputs": [],
   "source": [
    "def plot_cat(categorical_variable):\n",
    "    sns.barplot(x=categorical_variable, y=\"loan_status\", data=df)\n",
    "    plt.figure(figsize = (10, 6))\n",
    "    plt.show()"
   ]
  },
  {
   "cell_type": "markdown",
   "metadata": {},
   "source": [
    "#### How's default rates across grade of loan?"
   ]
  },
  {
   "cell_type": "code",
   "execution_count": 31,
   "metadata": {},
   "outputs": [
    {
     "data": {
      "image/png": "[encoded data removed]",
      "text/plain": [
       "<Figure size 432x288 with 1 Axes>"
      ]
     },
     "metadata": {
      "needs_background": "light"
     },
     "output_type": "display_data"
    },
    {
     "data": {
      "text/plain": [
       "<Figure size 720x432 with 0 Axes>"
      ]
     },
     "metadata": {},
     "output_type": "display_data"
    }
   ],
   "source": [
    "plot_cat(\"grade\")"
   ]
  },
  {
   "cell_type": "markdown",
   "metadata": {},
   "source": [
    "> What is your `interpretation`? "
   ]
  },
  {
   "cell_type": "markdown",
   "metadata": {},
   "source": [
    "> Clearly, as the grade of loan goes from A to G, the default rate increases. This is expected because the grade is decided by Lending Club based on the riskiness of the loan. "
   ]
  },
  {
   "cell_type": "markdown",
   "metadata": {},
   "source": [
    "#### `term`"
   ]
  },
  {
   "cell_type": "code",
   "execution_count": 32,
   "metadata": {},
   "outputs": [
    {
     "data": {
      "image/png": "[encoded data removed]",
      "text/plain": [
       "<Figure size 432x288 with 1 Axes>"
      ]
     },
     "metadata": {
      "needs_background": "light"
     },
     "output_type": "display_data"
    },
    {
     "data": {
      "text/plain": [
       "<Figure size 720x432 with 0 Axes>"
      ]
     },
     "metadata": {},
     "output_type": "display_data"
    }
   ],
   "source": [
    "plot_cat(\"term\")"
   ]
  },
  {
   "cell_type": "markdown",
   "metadata": {},
   "source": [
    "> `Interpretation`?"
   ]
  },
  {
   "cell_type": "markdown",
   "metadata": {},
   "source": [
    "> `60 months loans default more than 36 months loans`"
   ]
  },
  {
   "cell_type": "markdown",
   "metadata": {},
   "source": [
    "#### `home_ownership`"
   ]
  },
  {
   "cell_type": "code",
   "execution_count": 33,
   "metadata": {},
   "outputs": [
    {
     "data": {
      "image/png": "[encoded data removed]",
      "text/plain": [
       "<Figure size 432x288 with 1 Axes>"
      ]
     },
     "metadata": {
      "needs_background": "light"
     },
     "output_type": "display_data"
    },
    {
     "data": {
      "text/plain": [
       "<Figure size 720x432 with 0 Axes>"
      ]
     },
     "metadata": {},
     "output_type": "display_data"
    }
   ],
   "source": [
    "plot_cat(\"home_ownership\")"
   ]
  },
  {
   "cell_type": "markdown",
   "metadata": {},
   "source": [
    "> Interpretation?"
   ]
  },
  {
   "cell_type": "markdown",
   "metadata": {},
   "source": [
    ">Not a great discriminator"
   ]
  },
  {
   "cell_type": "markdown",
   "metadata": {},
   "source": [
    "#### The role of `verification_status`?"
   ]
  },
  {
   "cell_type": "code",
   "execution_count": 34,
   "metadata": {},
   "outputs": [
    {
     "data": {
      "image/png": "[encoded data removed]",
      "text/plain": [
       "<Figure size 432x288 with 1 Axes>"
      ]
     },
     "metadata": {
      "needs_background": "light"
     },
     "output_type": "display_data"
    },
    {
     "data": {
      "text/plain": [
       "<Figure size 720x432 with 0 Axes>"
      ]
     },
     "metadata": {},
     "output_type": "display_data"
    }
   ],
   "source": [
    "plot_cat(\"verification_status\")"
   ]
  },
  {
   "cell_type": "markdown",
   "metadata": {},
   "source": [
    "`Interpretation`?"
   ]
  },
  {
   "cell_type": "markdown",
   "metadata": {},
   "source": [
    "> Surprisingly, verified loans- default more than not verified"
   ]
  },
  {
   "cell_type": "markdown",
   "metadata": {},
   "source": [
    "#### The role of Loan `purpose`?"
   ]
  },
  {
   "cell_type": "code",
   "execution_count": 35,
   "metadata": {},
   "outputs": [
    {
     "data": {
      "image/png": "[encoded data removed]",
      "text/plain": [
       "<Figure size 1152x432 with 1 Axes>"
      ]
     },
     "metadata": {
      "needs_background": "light"
     },
     "output_type": "display_data"
    },
    {
     "data": {
      "text/plain": [
       "<Figure size 720x432 with 0 Axes>"
      ]
     },
     "metadata": {},
     "output_type": "display_data"
    }
   ],
   "source": [
    "plt.figure(figsize=(16, 6))\n",
    "plot_cat(\"purpose\")"
   ]
  },
  {
   "cell_type": "markdown",
   "metadata": {},
   "source": [
    "> `Interpretation?`"
   ]
  },
  {
   "cell_type": "markdown",
   "metadata": {},
   "source": [
    "> Small business loans default the most, then renewable energy and education"
   ]
  },
  {
   "cell_type": "markdown",
   "metadata": {},
   "source": [
    "#### Now, let's also observe the distribution of loans across years.\n",
    "\n",
    "> Please convert the column `issue_d` into datetime and then extract year and month from it."
   ]
  },
  {
   "cell_type": "code",
   "execution_count": 36,
   "metadata": {},
   "outputs": [
    {
     "data": {
      "text/plain": [
       "0    Dec-11\n",
       "1    Dec-11\n",
       "2    Dec-11\n",
       "3    Dec-11\n",
       "5    Dec-11\n",
       "Name: issue_d, dtype: object"
      ]
     },
     "execution_count": 36,
     "metadata": {},
     "output_type": "execute_result"
    }
   ],
   "source": [
    "df[\"issue_d\"].head()"
   ]
  },
  {
   "cell_type": "markdown",
   "metadata": {},
   "source": [
    "> Yes, please use `lambda`."
   ]
  },
  {
   "cell_type": "code",
   "execution_count": 37,
   "metadata": {},
   "outputs": [],
   "source": [
    "from datetime import datetime\n",
    "df[\"issue_d\"] = df[\"issue_d\"].apply(lambda x: datetime.strptime(x, \"%b-%y\"))"
   ]
  },
  {
   "cell_type": "markdown",
   "metadata": {},
   "source": [
    "> Please extract month and year from `issue_d`, using `lambda`."
   ]
  },
  {
   "cell_type": "code",
   "execution_count": 38,
   "metadata": {},
   "outputs": [],
   "source": [
    "df[\"month\"] = df[\"issue_d\"].apply(lambda x: x.month)\n",
    "df[\"year\"] = df[\"issue_d\"].apply(lambda x: x.year)"
   ]
  },
  {
   "cell_type": "markdown",
   "metadata": {},
   "source": [
    "> How would you examine the number of loans granted across years?"
   ]
  },
  {
   "cell_type": "code",
   "execution_count": 39,
   "metadata": {},
   "outputs": [
    {
     "data": {
      "text/plain": [
       "year\n",
       "2007      251\n",
       "2008     1562\n",
       "2009     4716\n",
       "2010    11214\n",
       "2011    19801\n",
       "Name: year, dtype: int64"
      ]
     },
     "execution_count": 39,
     "metadata": {},
     "output_type": "execute_result"
    }
   ],
   "source": [
    "df.groupby(\"year\").year.count()"
   ]
  },
  {
   "cell_type": "markdown",
   "metadata": {},
   "source": [
    "You can see that the number of loans has increased steadily across years. "
   ]
  },
  {
   "cell_type": "markdown",
   "metadata": {},
   "source": [
    "> How would you examine the number of loans across months?"
   ]
  },
  {
   "cell_type": "code",
   "execution_count": 40,
   "metadata": {},
   "outputs": [
    {
     "data": {
      "text/plain": [
       "month\n",
       "1     2331\n",
       "2     2278\n",
       "3     2632\n",
       "4     2756\n",
       "5     2838\n",
       "6     3094\n",
       "7     3253\n",
       "8     3321\n",
       "9     3394\n",
       "10    3637\n",
       "11    3890\n",
       "12    4120\n",
       "Name: month, dtype: int64"
      ]
     },
     "execution_count": 40,
     "metadata": {},
     "output_type": "execute_result"
    }
   ],
   "source": [
    "df.groupby(\"month\").month.count()"
   ]
  },
  {
   "cell_type": "markdown",
   "metadata": {},
   "source": [
    "`Interpretation`?"
   ]
  },
  {
   "cell_type": "markdown",
   "metadata": {},
   "source": [
    "> Most loans are granted in December, and in general in the latter half of the year."
   ]
  },
  {
   "cell_type": "markdown",
   "metadata": {},
   "source": [
    "#### Lets compare the default rates across years"
   ]
  },
  {
   "cell_type": "code",
   "execution_count": 41,
   "metadata": {},
   "outputs": [
    {
     "data": {
      "image/png": "[encoded data removed]",
      "text/plain": [
       "<Figure size 432x288 with 1 Axes>"
      ]
     },
     "metadata": {
      "needs_background": "light"
     },
     "output_type": "display_data"
    },
    {
     "data": {
      "text/plain": [
       "<Figure size 720x432 with 0 Axes>"
      ]
     },
     "metadata": {},
     "output_type": "display_data"
    }
   ],
   "source": [
    "plot_cat(\"year\")"
   ]
  },
  {
   "cell_type": "markdown",
   "metadata": {},
   "source": [
    "> `Interpretation`?"
   ]
  },
  {
   "cell_type": "markdown",
   "metadata": {},
   "source": [
    "> The default rate had suddenly increased in 2011, inspite of reducing from 2008 till 2010"
   ]
  },
  {
   "cell_type": "markdown",
   "metadata": {},
   "source": [
    "#### Let's compare default rates across months"
   ]
  },
  {
   "cell_type": "code",
   "execution_count": 42,
   "metadata": {},
   "outputs": [
    {
     "data": {
      "image/png": "[encoded data removed]",
      "text/plain": [
       "<Figure size 1152x432 with 1 Axes>"
      ]
     },
     "metadata": {
      "needs_background": "light"
     },
     "output_type": "display_data"
    },
    {
     "data": {
      "text/plain": [
       "<Figure size 720x432 with 0 Axes>"
      ]
     },
     "metadata": {},
     "output_type": "display_data"
    }
   ],
   "source": [
    "plt.figure(figsize=(16, 6))\n",
    "plot_cat(\"month\")"
   ]
  },
  {
   "cell_type": "markdown",
   "metadata": {},
   "source": [
    "> `Interpretation`? "
   ]
  },
  {
   "cell_type": "markdown",
   "metadata": {},
   "source": [
    "> Not much variation across months"
   ]
  },
  {
   "cell_type": "markdown",
   "metadata": {},
   "source": [
    "### Let's now analyse how the default rate varies across continuous variables."
   ]
  },
  {
   "cell_type": "markdown",
   "metadata": {},
   "source": [
    "> Loan Amount: `loan_amnt`"
   ]
  },
  {
   "cell_type": "code",
   "execution_count": 43,
   "metadata": {},
   "outputs": [
    {
     "data": {
      "image/png": "[encoded data removed]",
      "text/plain": [
       "<Figure size 432x288 with 1 Axes>"
      ]
     },
     "metadata": {
      "needs_background": "light"
     },
     "output_type": "display_data"
    }
   ],
   "source": [
    "sns.distplot(df[\"loan_amnt\"])\n",
    "plt.show()"
   ]
  },
  {
   "cell_type": "markdown",
   "metadata": {},
   "source": [
    "> `Interpretation`?"
   ]
  },
  {
   "cell_type": "markdown",
   "metadata": {},
   "source": [
    "> The median loan amount is around 10,000"
   ]
  },
  {
   "cell_type": "markdown",
   "metadata": {},
   "source": [
    "> One way to analyse how default rates vary across continous variables is to bin the variables into discrete categories.\n",
    "\n",
    "> Let's create a categorical variable for the loan amount variable into small, medium, high, very high."
   ]
  },
  {
   "cell_type": "markdown",
   "metadata": {},
   "source": [
    "* loan_amount < 5000 `low`\n",
    "* loan_amount >=5000 and loan_amount < 15000 `medium`\n",
    "* loan_amount >= 15000 and loan_amount < 25000 `high`\n",
    "* greater than 25000 `very high`"
   ]
  },
  {
   "cell_type": "code",
   "execution_count": 44,
   "metadata": {},
   "outputs": [],
   "source": [
    "def loan_amount(n):\n",
    "    if n < 5000:\n",
    "        return \"low\"\n",
    "    elif n >=5000 and n < 15000:\n",
    "        return \"medium\"\n",
    "    elif n >= 15000 and n < 25000:\n",
    "        return \"high\"\n",
    "    else:\n",
    "        return \"very high\"\n",
    "    \n",
    "df[\"loan_amnt\"] = df[\"loan_amnt\"].apply(lambda x: loan_amount(x))"
   ]
  },
  {
   "cell_type": "code",
   "execution_count": 45,
   "metadata": {},
   "outputs": [
    {
     "data": {
      "text/plain": [
       "medium       20157\n",
       "high          7572\n",
       "low           7095\n",
       "very high     2720\n",
       "Name: loan_amnt, dtype: int64"
      ]
     },
     "execution_count": 45,
     "metadata": {},
     "output_type": "execute_result"
    }
   ],
   "source": [
    "df[\"loan_amnt\"].value_counts()"
   ]
  },
  {
   "cell_type": "markdown",
   "metadata": {},
   "source": [
    "> Let's compare the default rates across loan amount type"
   ]
  },
  {
   "cell_type": "code",
   "execution_count": 46,
   "metadata": {},
   "outputs": [
    {
     "data": {
      "image/png": "[encoded data removed]",
      "text/plain": [
       "<Figure size 432x288 with 1 Axes>"
      ]
     },
     "metadata": {
      "needs_background": "light"
     },
     "output_type": "display_data"
    },
    {
     "data": {
      "text/plain": [
       "<Figure size 720x432 with 0 Axes>"
      ]
     },
     "metadata": {},
     "output_type": "display_data"
    }
   ],
   "source": [
    "plot_cat(\"loan_amnt\")"
   ]
  },
  {
   "cell_type": "markdown",
   "metadata": {},
   "source": [
    "> `Interpretation`?"
   ]
  },
  {
   "cell_type": "markdown",
   "metadata": {},
   "source": [
    "> higher the loan amount, higher the default rate"
   ]
  },
  {
   "cell_type": "markdown",
   "metadata": {},
   "source": [
    "#### Let's also convert funded amount invested to bins (using the same scheme)"
   ]
  },
  {
   "cell_type": "code",
   "execution_count": 47,
   "metadata": {},
   "outputs": [],
   "source": [
    "df[\"funded_amnt_inv\"] = df[\"funded_amnt_inv\"].apply(lambda x: loan_amount(x))"
   ]
  },
  {
   "cell_type": "markdown",
   "metadata": {},
   "source": [
    "> Visualize the results"
   ]
  },
  {
   "cell_type": "code",
   "execution_count": 48,
   "metadata": {},
   "outputs": [
    {
     "data": {
      "image/png": "[encoded data removed]",
      "text/plain": [
       "<Figure size 432x288 with 1 Axes>"
      ]
     },
     "metadata": {
      "needs_background": "light"
     },
     "output_type": "display_data"
    },
    {
     "data": {
      "text/plain": [
       "<Figure size 720x432 with 0 Axes>"
      ]
     },
     "metadata": {},
     "output_type": "display_data"
    }
   ],
   "source": [
    "plot_cat(\"funded_amnt_inv\")"
   ]
  },
  {
   "cell_type": "markdown",
   "metadata": {},
   "source": [
    "#### Interest Rate (int_rate)"
   ]
  },
  {
   "cell_type": "markdown",
   "metadata": {},
   "source": [
    "> Use the following definitions for each categories.\n",
    "\n",
    "* <= 10 `low`\n",
    "* dti > 10 and dti <=15 `medium`\n",
    "* greater than 15 `high`\n",
    "\n",
    "> Use lambda for creating a new variable."
   ]
  },
  {
   "cell_type": "code",
   "execution_count": 49,
   "metadata": {},
   "outputs": [],
   "source": [
    "def int_rate(n):\n",
    "    if n <= 10:\n",
    "        return \"low\"\n",
    "    elif n > 10 and n <=15:\n",
    "        return \"medium\"\n",
    "    else:\n",
    "        return \"high\"\n",
    "    \n",
    "    \n",
    "df[\"int_rate\"] = df[\"int_rate\"].apply(lambda x: int_rate(x))"
   ]
  },
  {
   "cell_type": "markdown",
   "metadata": {},
   "source": [
    "> Let's compare default rates across rates of interest"
   ]
  },
  {
   "cell_type": "code",
   "execution_count": 50,
   "metadata": {},
   "outputs": [
    {
     "data": {
      "image/png": "[encoded data removed]",
      "text/plain": [
       "<Figure size 432x288 with 1 Axes>"
      ]
     },
     "metadata": {
      "needs_background": "light"
     },
     "output_type": "display_data"
    },
    {
     "data": {
      "text/plain": [
       "<Figure size 720x432 with 0 Axes>"
      ]
     },
     "metadata": {},
     "output_type": "display_data"
    }
   ],
   "source": [
    "plot_cat(\"int_rate\")"
   ]
  },
  {
   "cell_type": "markdown",
   "metadata": {},
   "source": [
    "> `Interpretaion`?"
   ]
  },
  {
   "cell_type": "markdown",
   "metadata": {},
   "source": [
    "> high interest rates default more, as expected"
   ]
  },
  {
   "cell_type": "markdown",
   "metadata": {},
   "source": [
    "#### debt-to-income (`dti`) ratio"
   ]
  },
  {
   "cell_type": "markdown",
   "metadata": {},
   "source": [
    "> Please create a categorical variable of `dti` using your own function\n",
    "\n",
    "> Use the following definitions for each categories.\n",
    "\n",
    "* <= 10 `low`\n",
    "* dti > 10 and dti <=20 `medium`\n",
    "* greater than 20 `high`\n",
    "\n",
    "> Use lambda for creating a new variable."
   ]
  },
  {
   "cell_type": "code",
   "execution_count": 51,
   "metadata": {},
   "outputs": [],
   "source": [
    "def dti(n):\n",
    "    if n <= 10:\n",
    "        return \"low\"\n",
    "    elif n > 10 and n <=20:\n",
    "        return \"medium\"\n",
    "    else:\n",
    "        return \"high\"\n",
    "    \n",
    "\n",
    "df[\"dti\"] = df[\"dti\"].apply(lambda x: dti(x))"
   ]
  },
  {
   "cell_type": "markdown",
   "metadata": {},
   "source": [
    "> Let's comparing default rates across debt to income ratio"
   ]
  },
  {
   "cell_type": "code",
   "execution_count": 52,
   "metadata": {},
   "outputs": [
    {
     "data": {
      "image/png": "[encoded data removed]",
      "text/plain": [
       "<Figure size 432x288 with 1 Axes>"
      ]
     },
     "metadata": {
      "needs_background": "light"
     },
     "output_type": "display_data"
    },
    {
     "data": {
      "text/plain": [
       "<Figure size 720x432 with 0 Axes>"
      ]
     },
     "metadata": {},
     "output_type": "display_data"
    }
   ],
   "source": [
    "plot_cat(\"dti\")"
   ]
  },
  {
   "cell_type": "markdown",
   "metadata": {},
   "source": [
    "> `Interpretation`?"
   ]
  },
  {
   "cell_type": "markdown",
   "metadata": {},
   "source": [
    "> High dti translates into higher default rates, as expected"
   ]
  },
  {
   "cell_type": "markdown",
   "metadata": {},
   "source": [
    "#### `funded_amount`"
   ]
  },
  {
   "cell_type": "markdown",
   "metadata": {},
   "source": [
    "> Please create a categorical variable of `funded_amount` using your own function\n",
    "\n",
    "> Use the following definitions for each categories.\n",
    "\n",
    "- <= 5000 `low`\n",
    "- funded_amount > 5000 and funded_amount <=15000 `medium`\n",
    "- greater than 15000 `high`\n",
    "\n",
    "> Use lambda for creating a new variable."
   ]
  },
  {
   "cell_type": "code",
   "execution_count": 53,
   "metadata": {},
   "outputs": [],
   "source": [
    "def funded_amount(n):\n",
    "    if n <= 5000:\n",
    "        return \"low\"\n",
    "    elif n > 5000 and n <=15000:\n",
    "        return \"medium\"\n",
    "    else:\n",
    "        return \"high\"\n",
    "    "
   ]
  },
  {
   "cell_type": "code",
   "execution_count": 54,
   "metadata": {},
   "outputs": [],
   "source": [
    "df[\"funded_amnt\"] = df[\"funded_amnt\"].apply(lambda x: funded_amount(x))"
   ]
  },
  {
   "cell_type": "code",
   "execution_count": 55,
   "metadata": {},
   "outputs": [
    {
     "data": {
      "image/png": "[encoded data removed]",
      "text/plain": [
       "<Figure size 432x288 with 1 Axes>"
      ]
     },
     "metadata": {
      "needs_background": "light"
     },
     "output_type": "display_data"
    },
    {
     "data": {
      "text/plain": [
       "<Figure size 720x432 with 0 Axes>"
      ]
     },
     "metadata": {},
     "output_type": "display_data"
    }
   ],
   "source": [
    "plot_cat(\"funded_amnt\")"
   ]
  },
  {
   "cell_type": "markdown",
   "metadata": {},
   "source": [
    "#### installment"
   ]
  },
  {
   "cell_type": "markdown",
   "metadata": {},
   "source": [
    "> Please create a categorical variable of `installment` using your own function\n",
    "\n",
    "> Use the following definitions for each categories.\n",
    "\n",
    "- installment <= 200 `low`\n",
    "- installment > 200 and installment <= 400 `medium`\n",
    "- installment > 400 and installment <= 600 `high`\n",
    "- greater than 600 = `very high`\n",
    "\n",
    "> Use lambda for creating a new variable."
   ]
  },
  {
   "cell_type": "code",
   "execution_count": 56,
   "metadata": {},
   "outputs": [],
   "source": [
    "def installment(n):\n",
    "    if n <= 200:\n",
    "        return \"low\"\n",
    "    elif n > 200 and n <=400:\n",
    "        return \"medium\"\n",
    "    elif n > 400 and n <=600:\n",
    "        return \"high\"\n",
    "    else:\n",
    "        return \"very high\"\n",
    "    \n",
    "df[\"installment\"] = df[\"installment\"].apply(lambda x: installment(x))"
   ]
  },
  {
   "cell_type": "markdown",
   "metadata": {},
   "source": [
    "> Let's compare default rates across installment"
   ]
  },
  {
   "cell_type": "code",
   "execution_count": 57,
   "metadata": {},
   "outputs": [
    {
     "data": {
      "image/png": "[encoded data removed]",
      "text/plain": [
       "<Figure size 432x288 with 1 Axes>"
      ]
     },
     "metadata": {
      "needs_background": "light"
     },
     "output_type": "display_data"
    },
    {
     "data": {
      "text/plain": [
       "<Figure size 720x432 with 0 Axes>"
      ]
     },
     "metadata": {},
     "output_type": "display_data"
    }
   ],
   "source": [
    "plot_cat(\"installment\")"
   ]
  },
  {
   "cell_type": "markdown",
   "metadata": {},
   "source": [
    "> `Interpretation`?"
   ]
  },
  {
   "cell_type": "markdown",
   "metadata": {},
   "source": [
    "> The higher the installment amount, the higher the default rate"
   ]
  },
  {
   "cell_type": "markdown",
   "metadata": {},
   "source": [
    "#### How about `annual_income`? \n",
    "\n",
    "> Please create a categorical variable of annual_income using your own function\n",
    "\n",
    "> Use the following definitions for each categories.\n",
    "\n",
    "- less than or equal to 50k = `low`\n",
    "- greater than 50k less than equal to 100 k = `medium`\n",
    "- greater than 100k less than equal to 150k = `high`\n",
    "- greater than 150k = `very high`\n",
    "\n",
    "> Use lambda for creating a new variable."
   ]
  },
  {
   "cell_type": "code",
   "execution_count": 58,
   "metadata": {},
   "outputs": [],
   "source": [
    "def annual_income(n):\n",
    "    if n <= 50000:\n",
    "        return \"low\"\n",
    "    elif n > 50000 and n <=100000:\n",
    "        return \"medium\"\n",
    "    elif n > 100000 and n <=150000:\n",
    "        return \"high\"\n",
    "    else:\n",
    "        return \"very high\"\n",
    "\n",
    "df[\"annual_inc\"] = df[\"annual_inc\"].apply(lambda x: annual_income(x))"
   ]
  },
  {
   "cell_type": "markdown",
   "metadata": {},
   "source": [
    "> Visualize the results."
   ]
  },
  {
   "cell_type": "code",
   "execution_count": 59,
   "metadata": {},
   "outputs": [
    {
     "data": {
      "image/png": "[encoded data removed]",
      "text/plain": [
       "<Figure size 432x288 with 1 Axes>"
      ]
     },
     "metadata": {
      "needs_background": "light"
     },
     "output_type": "display_data"
    },
    {
     "data": {
      "text/plain": [
       "<Figure size 720x432 with 0 Axes>"
      ]
     },
     "metadata": {},
     "output_type": "display_data"
    }
   ],
   "source": [
    "plot_cat(\"annual_inc\")"
   ]
  },
  {
   "cell_type": "markdown",
   "metadata": {},
   "source": [
    "> What's your interpretation?"
   ]
  },
  {
   "cell_type": "markdown",
   "metadata": {},
   "source": [
    "#### Employment Length"
   ]
  },
  {
   "cell_type": "markdown",
   "metadata": {},
   "source": [
    "> First, let's drop the missing value observations in `emp_length`"
   ]
  },
  {
   "cell_type": "code",
   "execution_count": 60,
   "metadata": {},
   "outputs": [],
   "source": [
    "df = df[~df[\"emp_length\"].isnull()]"
   ]
  },
  {
   "cell_type": "markdown",
   "metadata": {},
   "source": [
    "> Please create a categorical variable of `emp_length` using your own function\n",
    "\n",
    "> Use the following definitions for each categories.\n",
    "\n",
    "* emp_length <= 1 `fresher`\n",
    "* emp_length > 1 and emp_length <=3 `junior`\n",
    "* emp_length > 3 and emp_length <=7 `senior`\n",
    "* greater than 7 `expert`\n",
    "\n",
    "> Use lambda for creating a new variable."
   ]
  },
  {
   "cell_type": "code",
   "execution_count": 61,
   "metadata": {},
   "outputs": [],
   "source": [
    "def emp_length(n):\n",
    "    if n <= 1:\n",
    "        return \"fresher\"\n",
    "    elif n > 1 and n <=3:\n",
    "        return \"junior\"\n",
    "    elif n > 3 and n <=7:\n",
    "        return \"senior\"\n",
    "    else:\n",
    "        return \"expert\"\n",
    "\n",
    "df[\"emp_length\"] = df[\"emp_length\"].apply(lambda x: emp_length(x))"
   ]
  },
  {
   "cell_type": "markdown",
   "metadata": {},
   "source": [
    "> Visualize the results"
   ]
  },
  {
   "cell_type": "code",
   "execution_count": 62,
   "metadata": {},
   "outputs": [
    {
     "data": {
      "image/png": "[encoded data removed]",
      "text/plain": [
       "<Figure size 432x288 with 1 Axes>"
      ]
     },
     "metadata": {
      "needs_background": "light"
     },
     "output_type": "display_data"
    },
    {
     "data": {
      "text/plain": [
       "<Figure size 720x432 with 0 Axes>"
      ]
     },
     "metadata": {},
     "output_type": "display_data"
    }
   ],
   "source": [
    "plot_cat(\"emp_length\")"
   ]
  },
  {
   "cell_type": "markdown",
   "metadata": {},
   "source": [
    "> What's your `interetation`?"
   ]
  },
  {
   "cell_type": "markdown",
   "metadata": {},
   "source": [
    "### Segmented Univariate Analysis\n",
    "\n"
   ]
  },
  {
   "cell_type": "markdown",
   "metadata": {},
   "source": [
    "##### Loan Purpose (`purpose`)"
   ]
  },
  {
   "cell_type": "code",
   "execution_count": 63,
   "metadata": {},
   "outputs": [
    {
     "data": {
      "image/png": "[encoded data removed]",
      "text/plain": [
       "<Figure size 1152x432 with 1 Axes>"
      ]
     },
     "metadata": {
      "needs_background": "light"
     },
     "output_type": "display_data"
    },
    {
     "data": {
      "text/plain": [
       "<Figure size 720x432 with 0 Axes>"
      ]
     },
     "metadata": {},
     "output_type": "display_data"
    }
   ],
   "source": [
    "plt.figure(figsize=(16, 6))\n",
    "plt.xticks(rotation=90)\n",
    "plot_cat(\"purpose\")"
   ]
  },
  {
   "cell_type": "markdown",
   "metadata": {},
   "source": [
    "`Interpretation`?"
   ]
  },
  {
   "cell_type": "markdown",
   "metadata": {},
   "source": [
    "> small business loans defualt the most, then renewable energy and education"
   ]
  },
  {
   "cell_type": "markdown",
   "metadata": {},
   "source": [
    "#### Now let's segment the loan applications across the purpose of the loan, since that is a variable affecting many other variables - the type of applicant, interest rate, income, and finally the default rate. "
   ]
  },
  {
   "cell_type": "markdown",
   "metadata": {},
   "source": [
    "> Let's take a look at the number of loans for each type (purpose) of the loan."
   ]
  },
  {
   "cell_type": "code",
   "execution_count": 64,
   "metadata": {},
   "outputs": [
    {
     "data": {
      "text/plain": [
       "<seaborn.axisgrid.FacetGrid at 0x7fc1f5a34970>"
      ]
     },
     "execution_count": 64,
     "metadata": {},
     "output_type": "execute_result"
    },
    {
     "data": {
      "image/png": "[encoded data removed]",
      "text/plain": [
       "<Figure size 432x432 with 1 Axes>"
      ]
     },
     "metadata": {
      "needs_background": "light"
     },
     "output_type": "display_data"
    }
   ],
   "source": [
    "cp = sns.catplot(x=\"purpose\", kind = \"count\", data=df, height = 6)\n",
    "cp.set_xticklabels(rotation=90)"
   ]
  },
  {
   "cell_type": "markdown",
   "metadata": {},
   "source": [
    "> Please analyze the top 4 types of loans based on purpose"
   ]
  },
  {
   "cell_type": "markdown",
   "metadata": {},
   "source": [
    "> consolidation, credit card, home improvement and major purchase."
   ]
  },
  {
   "cell_type": "markdown",
   "metadata": {},
   "source": [
    "#### Let's filter the df for the 4 types of loans mentioned above"
   ]
  },
  {
   "cell_type": "code",
   "execution_count": 65,
   "metadata": {},
   "outputs": [
    {
     "data": {
      "text/plain": [
       "debt_consolidation    17675\n",
       "credit_card            4899\n",
       "home_improvement       2785\n",
       "major_purchase         2080\n",
       "Name: purpose, dtype: int64"
      ]
     },
     "execution_count": 65,
     "metadata": {},
     "output_type": "execute_result"
    }
   ],
   "source": [
    "main_purposes = [\"credit_card\",\"debt_consolidation\",\"home_improvement\",\"major_purchase\"]\n",
    "df = df[df[\"purpose\"].isin(main_purposes)]\n",
    "df[\"purpose\"].value_counts()"
   ]
  },
  {
   "cell_type": "markdown",
   "metadata": {},
   "source": [
    "#### Visualize the number of loans by purpose "
   ]
  },
  {
   "cell_type": "code",
   "execution_count": 66,
   "metadata": {},
   "outputs": [
    {
     "data": {
      "image/png": "[encoded data removed]",
      "text/plain": [
       "<Figure size 432x288 with 1 Axes>"
      ]
     },
     "metadata": {
      "needs_background": "light"
     },
     "output_type": "display_data"
    }
   ],
   "source": [
    "sns.countplot(x=df[\"purpose\"])\n",
    "plt.show()"
   ]
  },
  {
   "cell_type": "markdown",
   "metadata": {},
   "source": [
    "> let's now compare the default rates across two types of categorical variables\n",
    "# purpose of loan (constant) and another categorical variable (which changes)"
   ]
  },
  {
   "cell_type": "code",
   "execution_count": 67,
   "metadata": {},
   "outputs": [
    {
     "data": {
      "image/png": "[encoded data removed]",
      "text/plain": [
       "<Figure size 720x432 with 1 Axes>"
      ]
     },
     "metadata": {
      "needs_background": "light"
     },
     "output_type": "display_data"
    }
   ],
   "source": [
    "plt.figure(figsize=[10, 6])\n",
    "sns.barplot(x=\"term\", y=\"loan_status\", hue=\"purpose\", data=df)\n",
    "plt.show()"
   ]
  },
  {
   "cell_type": "markdown",
   "metadata": {},
   "source": [
    "> You should be able to write your own function which takes a categorical variable and plots the default rate segmented by purpose.\n",
    "\n",
    "> Please create your function named `plot_segmented`"
   ]
  },
  {
   "cell_type": "code",
   "execution_count": 68,
   "metadata": {},
   "outputs": [],
   "source": [
    "def plot_segmented(cat_var):\n",
    "    plt.figure(figsize=(10, 6))\n",
    "    sns.barplot(x=cat_var, y=\"loan_status\", hue=\"purpose\", data=df)\n",
    "    plt.show()"
   ]
  },
  {
   "cell_type": "markdown",
   "metadata": {},
   "source": [
    "> Let's use the function to see if there's differences in the term."
   ]
  },
  {
   "cell_type": "code",
   "execution_count": 69,
   "metadata": {},
   "outputs": [
    {
     "data": {
      "image/png": "[encoded data removed]",
      "text/plain": [
       "<Figure size 720x432 with 1 Axes>"
      ]
     },
     "metadata": {
      "needs_background": "light"
     },
     "output_type": "display_data"
    }
   ],
   "source": [
    "plot_segmented(\"term\")"
   ]
  },
  {
   "cell_type": "markdown",
   "metadata": {},
   "source": [
    "#### Grade of Loan (`grade`)"
   ]
  },
  {
   "cell_type": "code",
   "execution_count": 70,
   "metadata": {},
   "outputs": [
    {
     "data": {
      "image/png": "[encoded data removed]",
      "text/plain": [
       "<Figure size 720x432 with 1 Axes>"
      ]
     },
     "metadata": {
      "needs_background": "light"
     },
     "output_type": "display_data"
    }
   ],
   "source": [
    "plot_segmented(\"grade\")"
   ]
  },
  {
   "cell_type": "markdown",
   "metadata": {},
   "source": [
    "#### home ownership(`home_ownership`)"
   ]
  },
  {
   "cell_type": "code",
   "execution_count": 71,
   "metadata": {},
   "outputs": [
    {
     "data": {
      "image/png": "[encoded data removed]",
      "text/plain": [
       "<Figure size 720x432 with 1 Axes>"
      ]
     },
     "metadata": {
      "needs_background": "light"
     },
     "output_type": "display_data"
    }
   ],
   "source": [
    "plot_segmented(\"home_ownership\")"
   ]
  },
  {
   "cell_type": "markdown",
   "metadata": {},
   "source": [
    "In general, debt consolidation loans have the highest default rates. Lets compare across other categories as well."
   ]
  },
  {
   "cell_type": "markdown",
   "metadata": {},
   "source": [
    "#### `year`"
   ]
  },
  {
   "cell_type": "code",
   "execution_count": 72,
   "metadata": {},
   "outputs": [
    {
     "data": {
      "image/png": "[encoded data removed]",
      "text/plain": [
       "<Figure size 720x432 with 1 Axes>"
      ]
     },
     "metadata": {
      "needs_background": "light"
     },
     "output_type": "display_data"
    }
   ],
   "source": [
    "plot_segmented(\"year\")"
   ]
  },
  {
   "cell_type": "markdown",
   "metadata": {},
   "source": [
    "#### `emp_length`"
   ]
  },
  {
   "cell_type": "code",
   "execution_count": 73,
   "metadata": {},
   "outputs": [
    {
     "data": {
      "image/png": "[encoded data removed]",
      "text/plain": [
       "<Figure size 720x432 with 1 Axes>"
      ]
     },
     "metadata": {
      "needs_background": "light"
     },
     "output_type": "display_data"
    }
   ],
   "source": [
    "plot_segmented(\"emp_length\")"
   ]
  },
  {
   "cell_type": "markdown",
   "metadata": {},
   "source": [
    "> Loan Amount (`loan_amnt`) \n",
    "\n",
    "> How's the pattern compared with loan purposes?"
   ]
  },
  {
   "cell_type": "code",
   "execution_count": 74,
   "metadata": {},
   "outputs": [
    {
     "data": {
      "image/png": "[encoded data removed]",
      "text/plain": [
       "<Figure size 720x432 with 1 Axes>"
      ]
     },
     "metadata": {
      "needs_background": "light"
     },
     "output_type": "display_data"
    }
   ],
   "source": [
    "plot_segmented(\"loan_amnt\")"
   ]
  },
  {
   "cell_type": "markdown",
   "metadata": {},
   "source": [
    "> interest rate (`int_rate`)"
   ]
  },
  {
   "cell_type": "code",
   "execution_count": 75,
   "metadata": {},
   "outputs": [
    {
     "data": {
      "image/png": "[encoded data removed]",
      "text/plain": [
       "<Figure size 720x432 with 1 Axes>"
      ]
     },
     "metadata": {
      "needs_background": "light"
     },
     "output_type": "display_data"
    }
   ],
   "source": [
    "plot_segmented(\"int_rate\")"
   ]
  },
  {
   "cell_type": "markdown",
   "metadata": {},
   "source": [
    "> `installment`"
   ]
  },
  {
   "cell_type": "code",
   "execution_count": 76,
   "metadata": {},
   "outputs": [
    {
     "data": {
      "image/png": "[encoded data removed]",
      "text/plain": [
       "<Figure size 720x432 with 1 Axes>"
      ]
     },
     "metadata": {
      "needs_background": "light"
     },
     "output_type": "display_data"
    }
   ],
   "source": [
    "plot_segmented(\"installment\")"
   ]
  },
  {
   "cell_type": "markdown",
   "metadata": {},
   "source": [
    "> debt-to-income (`dti`) ratio"
   ]
  },
  {
   "cell_type": "code",
   "execution_count": 77,
   "metadata": {},
   "outputs": [
    {
     "data": {
      "image/png": "[encoded data removed]",
      "text/plain": [
       "<Figure size 720x432 with 1 Axes>"
      ]
     },
     "metadata": {
      "needs_background": "light"
     },
     "output_type": "display_data"
    }
   ],
   "source": [
    "plot_segmented(\"dti\")"
   ]
  },
  {
   "cell_type": "markdown",
   "metadata": {},
   "source": [
    "> Let's have a look at the role of `annual_income`"
   ]
  },
  {
   "cell_type": "code",
   "execution_count": 78,
   "metadata": {},
   "outputs": [
    {
     "data": {
      "image/png": "[encoded data removed]",
      "text/plain": [
       "<Figure size 720x432 with 1 Axes>"
      ]
     },
     "metadata": {
      "needs_background": "light"
     },
     "output_type": "display_data"
    }
   ],
   "source": [
    "plot_segmented(\"annual_inc\")"
   ]
  },
  {
   "cell_type": "markdown",
   "metadata": {},
   "source": [
    "> A good way to quantify th effect of a categorical variable on default rate is to see `how much does the default rate vary across the categories`. \n",
    "\n",
    "> Let's see an example using `annual_inc` as the categorical variable."
   ]
  },
  {
   "cell_type": "markdown",
   "metadata": {},
   "source": [
    "> How would you examine the variation of default rate across `annual_inc`?"
   ]
  },
  {
   "cell_type": "code",
   "execution_count": 79,
   "metadata": {},
   "outputs": [
    {
     "data": {
      "text/plain": [
       "annual_inc\n",
       "low          0.157966\n",
       "medium       0.130075\n",
       "very high    0.101570\n",
       "high         0.097749\n",
       "Name: loan_status, dtype: float64"
      ]
     },
     "execution_count": 79,
     "metadata": {},
     "output_type": "execute_result"
    }
   ],
   "source": [
    "df.groupby(\"annual_inc\").loan_status.mean().sort_values(ascending=False)"
   ]
  },
  {
   "cell_type": "markdown",
   "metadata": {},
   "source": [
    "> You might want to write a function which takes in a categorical variable and computed the average default rate across the categories.\n",
    "\n",
    "> You can also compute the `difference between the highest and the lowest default rate` across the categories, which is a decent metric indicating the effect of the varaible on default rate.\n",
    "\n",
    "> Please create your own function named `diff_rate`."
   ]
  },
  {
   "cell_type": "code",
   "execution_count": 80,
   "metadata": {},
   "outputs": [],
   "source": [
    "def diff_rate(cat_var):\n",
    "    default_rates = df.groupby(cat_var).loan_status.mean().sort_values(ascending=False)\n",
    "    return (round(default_rates, 2), round(default_rates[0] - default_rates[-1], 2))"
   ]
  },
  {
   "cell_type": "markdown",
   "metadata": {},
   "source": [
    "> Please use the function and draw some insights :)"
   ]
  },
  {
   "cell_type": "code",
   "execution_count": 81,
   "metadata": {},
   "outputs": [
    {
     "name": "stdout",
     "output_type": "stream",
     "text": [
      "annual_inc\n",
      "low          0.16\n",
      "medium       0.13\n",
      "very high    0.10\n",
      "high         0.10\n",
      "Name: loan_status, dtype: float64\n",
      "0.06\n"
     ]
    }
   ],
   "source": [
    "default_rates, diff = diff_rate(\"annual_inc\")\n",
    "print(default_rates);print(diff)"
   ]
  },
  {
   "cell_type": "markdown",
   "metadata": {},
   "source": [
    "> Thus, there is a ***`6%`*** increase in default rate as you go from high to low annual income. \n",
    "\n",
    "##### You might want to compute this difference for all the variables and roughly identify the ones that affect default rate the most."
   ]
  },
  {
   "cell_type": "markdown",
   "metadata": {},
   "source": [
    "### References"
   ]
  },
  {
   "cell_type": "markdown",
   "metadata": {},
   "source": [
    "### Appendix"
   ]
  },
  {
   "cell_type": "markdown",
   "metadata": {},
   "source": [
    "- `acc_now_delinq`\tThe number of accounts on which the borrower is now delinquent.\n",
    "- `acc_open_past_24mths`\tNumber of trades opened in past 24 months.\n",
    "- addr_state`\tThe state provided by the borrower in the loan application\n",
    "- `all_util`\tBalance to credit limit on all trades\n",
    "- `annual_inc`\tThe self-reported annual income provided by the borrower during registration.\n",
    "- `annual_inc_joint`\tThe combined self-reported annual income provided by the co-borrowers during registration\n",
    "- `application_type`\tIndicates whether the loan is an individual application or a joint application with two co-borrowers\n",
    "- `avg_cur_bal`\tAverage current balance of all accounts\n",
    "- `bc_open_to_buy`\tTotal open to buy on revolving bankcards.\n",
    "- `bc_util`\tRatio of total current balance to high credit/credit limit for all bankcard accounts.\n",
    "- `chargeoff_within_12_mths`\tNumber of charge-offs within 12 months\n",
    "- `collection_recovery_fee`\tpost charge off collection fee\n",
    "- `collections_12_mths_ex_med`\tNumber of collections in 12 months excluding medical collections\n",
    "- `delinq_2yrs`\tThe number of 30+ days past-due incidences of delinquency in the borrower's credit file for the past 2 years\n",
    "- `delinq_amnt`\tThe past-due amount owed for the accounts on which the borrower is now delinquent.\n",
    "- `desc`\tLoan description provided by the borrower\n",
    "- `dti`\tA ratio calculated using the borrower’s total monthly debt payments on the total debt obligations, excluding mortgage and the requested LC loan, divided by the borrower’s self-reported monthly income.\n",
    "- `dti_joint`\tA ratio calculated using the co-borrowers' total monthly payments on the total debt obligations, excluding mortgages and the requested LC loan, divided by the co-borrowers' combined self-reported monthly income\n",
    "- `earliest_cr_line`\tThe month the borrower's earliest reported credit line was opened\n",
    "- `emp_length`\tEmployment length in years. Possible values are between 0 and 10 where 0 means less than one year and 10 means ten or more years. \n",
    "- `emp_title`\tThe job title supplied by the Borrower when applying for the loan.*\n",
    "- `fico_range_high`\tThe upper boundary range the borrower’s FICO at loan origination belongs to.\n",
    "- `fico_range_low`\tThe lower boundary range the borrower’s FICO at loan origination belongs to.\n",
    "- `funded_amnt`\tThe total amount committed to that loan at that point in time.\n",
    "- `funded_amnt_inv`\tThe total amount committed by investors for that loan at that point in time.\n",
    "- `grade`\tLC assigned loan grade\n",
    "- `home_ownership`\tThe home ownership status provided by the borrower during registration. Our values are: RENT, OWN, MORTGAGE, OTHER.\n",
    "- `id`\tA unique LC assigned ID for the loan listing.\n",
    "- `il_util`\tRatio of total current balance to high credit/credit limit on all install acct\n",
    "- `initial_list_status`\tThe initial listing status of the loan. Possible values are – W, F\n",
    "- `inq_fi`\tNumber of personal finance inquiries\n",
    "- `inq_last_12m`\tNumber of credit inquiries in past 12 months\n",
    "- `inq_last_6mths`\tThe number of inquiries in past 6 months (excluding auto and mortgage inquiries)\n",
    "- `installment`\tThe monthly payment owed by the borrower if the loan originates.\n",
    "- `int_rate`\tInterest Rate on the loan\n",
    "- `issue_d`\tThe month which the loan was funded\n",
    "- `last_credit_pull_d`\tThe most recent month LC pulled credit for this loan\n",
    "- `last_fico_range_high`\tThe upper boundary range the borrower’s last FICO pulled belongs to.\n",
    "- `last_fico_range_low`\tThe lower boundary range the borrower’s last FICO pulled belongs to.\n",
    "- `last_pymnt_amnt`\tLast total payment amount received\n",
    "- `last_pymnt_d`\tLast month payment was received\n",
    "- `loan_amnt`\tThe listed amount of the loan applied for by the borrower. If at some point in time, the credit department reduces the loan amount, then it will be reflected in this value.\n",
    "- `loan_status`\tCurrent status of the loan\n",
    "- `max_bal_bc`\tMaximum current balance owed on all revolving accounts\n",
    "- `member_id`\tA unique LC assigned Id for the borrower member.\n",
    "- `mo_sin_old_il_acct`\tMonths since oldest bank installment account opened\n",
    "- `mo_sin_old_rev_tl_op`\tMonths since oldest revolving account opened\n",
    "- `mo_sin_rcnt_rev_tl_op`\tMonths since most recent revolving account opened\n",
    "- `mo_sin_rcnt_tl`\tMonths since most recent account opened\n",
    "- `mort_acc`\tNumber of mortgage accounts.\n",
    "- `mths_since_last_delinq`\tThe number of months since the borrower's last delinquency.\n",
    "- `mths_since_last_major_derog`\tMonths since most recent 90-day or worse rating\n",
    "- `mths_since_last_record`\tThe number of months since the last public record.\n",
    "- `mths_since_rcnt_il`\tMonths since most recent installment accounts opened\n",
    "- `mths_since_recent_bc`\tMonths since most recent bankcard account opened.\n",
    "- `mths_since_recent_bc_dlq`\tMonths since most recent bankcard delinquency\n",
    "- `mths_since_recent_inq`\tMonths since most recent inquiry.\n",
    "- `mths_since_recent_revol_delinq`\tMonths since most recent revolving delinquency.\n",
    "- `next_pymnt_d`\tNext scheduled payment date\n",
    "- `num_accts_ever_120_pd`\tNumber of accounts ever 120 or more days past due\n",
    "- `num_actv_bc_tl`\tNumber of currently active bankcard accounts\n",
    "- `num_actv_rev_tl`\tNumber of currently active revolving trades\n",
    "- `num_bc_sats`\tNumber of satisfactory bankcard accounts\n",
    "- `num_bc_tl`\tNumber of bankcard accounts\n",
    "- `num_il_tl`\tNumber of installment accounts\n",
    "- `num_op_rev_tl`\tNumber of open revolving accounts\n",
    "- `num_rev_accts`\tNumber of revolving accounts\n",
    "- `num_rev_tl_bal_gt_0`\tNumber of revolving trades with balance >0\n",
    "- `num_sats`\tNumber of satisfactory accounts\n",
    "- `num_tl_120dpd_2m`\tNumber of accounts currently 120 days past due (updated in past 2 months)\n",
    "- `num_tl_30dpd`\tNumber of accounts currently 30 days past due (updated in past 2 months)\n",
    "- `num_tl_90g_dpd_24m`\tNumber of accounts 90 or more days past due in last 24 months\n",
    "- `num_tl_op_past_12m`\tNumber of accounts opened in past 12 months\n",
    "- `open_acc`\tThe number of open credit lines in the borrower's credit file.\n",
    "- `open_acc_6m`\tNumber of open trades in last 6 months\n",
    "- `open_il_12m`\tNumber of installment accounts opened in past 12 months\n",
    "- `open_il_24m`\tNumber of installment accounts opened in past 24 months\n",
    "- `open_il_6m`\tNumber of currently active installment trades\n",
    "- `open_rv_12m`\tNumber of revolving trades opened in past 12 months\n",
    "- `open_rv_24m`\tNumber of revolving trades opened in past 24 months\n",
    "- `out_prncp`\tRemaining outstanding principal for total amount funded\n",
    "- `out_prncp_inv`\tRemaining outstanding principal for portion of total amount funded by investors\n",
    "- `pct_tl_nvr_dlq`\tPercent of trades never delinquent\n",
    "- `percent_bc_gt_75`\tPercentage of all bankcard accounts > 75% of limit.\n",
    "- `policy_code`\tpublicly available policy_code=1; new products not publicly available policy_code=2\"\n",
    "- `pub_rec`\tNumber of derogatory public records\n",
    "- `pub_rec_bankruptcies`\tNumber of public record bankruptcies\n",
    "- `purpose`\tA category provided by the borrower for the loan request. \n",
    "- `pymnt_plan`\tIndicates if a payment plan has been put in place for the loan\n",
    "- `recoveries`\tpost charge off gross recovery\n",
    "- `revol_bal`\tTotal credit revolving balance\n",
    "- `revol_util`\tRevolving line utilization rate, or the amount of credit the borrower is using relative to all available revolving credit.\n",
    "- `sub_grade`\tLC assigned loan subgrade\n",
    "- `tax_liens`\tNumber of tax liens\n",
    "- `term`\tThe number of payments on the loan. Values are in months and can be either 36 or 60.\n",
    "- `title`\tThe loan title provided by the borrower\n",
    "- `tot_coll_amt`\tTotal collection amounts ever owed\n",
    "- `tot_cur_bal`\tTotal current balance of all accounts\n",
    "- `tot_hi_cred_lim`\tTotal high credit/credit limit\n",
    "- `total_acc`\tThe total number of credit lines currently in the borrower's credit file\n",
    "- `total_bal_ex_mort`\tTotal credit balance excluding mortgage\n",
    "- `total_bal_il`\tTotal current balance of all installment accounts\n",
    "- `total_bc_limit`\tTotal bankcard high credit/credit limit\n",
    "- `total_cu_tl`\tNumber of finance trades\n",
    "- `total_il_high_credit_limit`\tTotal installment high credit/credit limit\n",
    "- `total_pymnt`\tPayments received to date for total amount funded\n",
    "- `total_pymnt_inv`\tPayments received to date for portion of total amount funded by investors\n",
    "- `total_rec_int`\tInterest received to date\n",
    "- `total_rec_late_fee`\tLate fees received to date\n",
    "- `total_rec_prncp`\tPrincipal received to date\n",
    "- `total_rev_hi_lim`  \tTotal revolving high credit/credit limit\n",
    "- `url`\tURL for the LC page with listing data.\n",
    "- `verification_status`\tIndicates if income was verified by LC, not verified, or if the income source was verified\n",
    "- `verified_status_joint`\tIndicates if the co-borrowers' joint income was verified by LC, not verified, or if the income source was verified\n",
    "- `zip_code`\tThe first 3 numbers of the zip code provided by the borrower in the loan application."
   ]
  },
  {
   "cell_type": "markdown",
   "metadata": {},
   "source": [
    "### Contribution Statements"
   ]
  },
  {
   "cell_type": "markdown",
   "metadata": {},
   "source": [
    "> `Thank you for working with the script :)`"
   ]
  },
  {
   "cell_type": "code",
   "execution_count": 82,
   "metadata": {},
   "outputs": [],
   "source": [
    "exit()"
   ]
  }
 ],
 "metadata": {
  "kernelspec": {
   "display_name": "Python 3",
   "language": "python",
   "name": "python3"
  },
  "language_info": {
   "codemirror_mode": {
    "name": "ipython",
    "version": 3
   },
   "file_extension": ".py",
   "mimetype": "text/x-python",
   "name": "python",
   "nbconvert_exporter": "python",
   "pygments_lexer": "ipython3",
   "version": "3.8.3"
  }
 },
 "nbformat": 4,
 "nbformat_minor": 2
}
